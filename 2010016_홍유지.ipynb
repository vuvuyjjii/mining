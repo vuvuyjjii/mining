{
  "nbformat": 4,
  "nbformat_minor": 0,
  "metadata": {
    "colab": {
      "provenance": [],
      "collapsed_sections": [],
      "authorship_tag": "ABX9TyOYPDHyXDpligm7nPPDKv68",
      "include_colab_link": true
    },
    "kernelspec": {
      "name": "python3",
      "display_name": "Python 3"
    },
    "language_info": {
      "name": "python"
    }
  },
  "cells": [
    {
      "cell_type": "markdown",
      "metadata": {
        "id": "view-in-github",
        "colab_type": "text"
      },
      "source": [
        "<a href=\"https://colab.research.google.com/github/vuvuyjjii/mining/blob/main/2010016_%ED%99%8D%EC%9C%A0%EC%A7%80.ipynb\" target=\"_parent\"><img src=\"https://colab.research.google.com/assets/colab-badge.svg\" alt=\"Open In Colab\"/></a>"
      ]
    },
    {
      "cell_type": "markdown",
      "source": [
        "# matplotlib/seaborn/pandas 패키지를 이용하고, 필요하다면 엑셀 또는 파이썬 코드로 데이터 전처리 수행 \n",
        "- 이용한 차트의 종류가 3가지 이상이어야 함 (산점도, 막대 그래프, 라인 그래프 등)\n",
        "- 시각화 결과를 해석하고  3가지의 인사이트 도출하기 \n",
        "- 코드는 github에 올리고 주소 제출\n",
        "\n"
      ],
      "metadata": {
        "id": "XQCS78Y-PLhv"
      }
    },
    {
      "cell_type": "code",
      "execution_count": 1,
      "metadata": {
        "id": "3S10YmS5J74X"
      },
      "outputs": [],
      "source": [
        "import pandas as pd"
      ]
    },
    {
      "cell_type": "code",
      "source": [
        "import seaborn as sns\n",
        "sns.set_theme(style=\"whitegrid\")"
      ],
      "metadata": {
        "id": "uN6gNpAhxjV_"
      },
      "execution_count": 2,
      "outputs": []
    },
    {
      "cell_type": "code",
      "source": [
        "%matplotlib inline\n",
        "import matplotlib as mpl               # 기본 설정\n",
        "import matplotlib.pyplot as plt        # 그래프 관련\n",
        "import matplotlib.font_manager as fm   # 폰트 관련\n",
        "\n",
        "mpl.rcParams['axes.unicode_minus'] = False  ## 마이너스 부호가 깨지는 것 방지 \n",
        "\n",
        "plt.title(\"x ticks\")\n",
        "plt.plot([10, 20, 30, 40], [-10, 4, 9, 16])"
      ],
      "metadata": {
        "colab": {
          "base_uri": "https://localhost:8080/",
          "height": 302
        },
        "id": "6qbqJ5FudgJl",
        "outputId": "a214916e-0670-402c-b164-6ebafdec38ea"
      },
      "execution_count": 3,
      "outputs": [
        {
          "output_type": "execute_result",
          "data": {
            "text/plain": [
              "[<matplotlib.lines.Line2D at 0x7f2687695250>]"
            ]
          },
          "metadata": {},
          "execution_count": 3
        },
        {
          "output_type": "display_data",
          "data": {
            "text/plain": [
              "<Figure size 432x288 with 1 Axes>"
            ],
            "image/png": "[encoded data removed]"
          },
          "metadata": {
            "needs_background": "light"
          }
        }
      ]
    },
    {
      "cell_type": "code",
      "source": [
        "x = [1, 1, 2, 2, 3, 4]\n",
        "df_list  = pd.DataFrame(x)\n",
        "\n",
        "print(type(df_list)) \n",
        "display(df_list)      "
      ],
      "metadata": {
        "colab": {
          "base_uri": "https://localhost:8080/",
          "height": 256
        },
        "id": "sFfRnqfyLCew",
        "outputId": "5629db79-024a-4897-c1e7-029ca83c8b4b"
      },
      "execution_count": null,
      "outputs": [
        {
          "output_type": "stream",
          "name": "stdout",
          "text": [
            "<class 'pandas.core.frame.DataFrame'>\n"
          ]
        },
        {
          "output_type": "display_data",
          "data": {
            "text/plain": [
              "   0\n",
              "0  1\n",
              "1  1\n",
              "2  2\n",
              "3  2\n",
              "4  3\n",
              "5  4"
            ],
            "text/html": [
              "\n",
              "  <div id=\"df-f0255197-7166-4a79-ae9a-f6f35af641c9\">\n",
              "    <div class=\"colab-df-container\">\n",
              "      <div>\n",
              "<style scoped>\n",
              "    .dataframe tbody tr th:only-of-type {\n",
              "        vertical-align: middle;\n",
              "    }\n",
              "\n",
              "    .dataframe tbody tr th {\n",
              "        vertical-align: top;\n",
              "    }\n",
              "\n",
              "    .dataframe thead th {\n",
              "        text-align: right;\n",
              "    }\n",
              "</style>\n",
              "<table border=\"1\" class=\"dataframe\">\n",
              "  <thead>\n",
              "    <tr style=\"text-align: right;\">\n",
              "      <th></th>\n",
              "      <th>0</th>\n",
              "    </tr>\n",
              "  </thead>\n",
              "  <tbody>\n",
              "    <tr>\n",
              "      <th>0</th>\n",
              "      <td>1</td>\n",
              "    </tr>\n",
              "    <tr>\n",
              "      <th>1</th>\n",
              "      <td>1</td>\n",
              "    </tr>\n",
              "    <tr>\n",
              "      <th>2</th>\n",
              "      <td>2</td>\n",
              "    </tr>\n",
              "    <tr>\n",
              "      <th>3</th>\n",
              "      <td>2</td>\n",
              "    </tr>\n",
              "    <tr>\n",
              "      <th>4</th>\n",
              "      <td>3</td>\n",
              "    </tr>\n",
              "    <tr>\n",
              "      <th>5</th>\n",
              "      <td>4</td>\n",
              "    </tr>\n",
              "  </tbody>\n",
              "</table>\n",
              "</div>\n",
              "      <button class=\"colab-df-convert\" onclick=\"convertToInteractive('df-f0255197-7166-4a79-ae9a-f6f35af641c9')\"\n",
              "              title=\"Convert this dataframe to an interactive table.\"\n",
              "              style=\"display:none;\">\n",
              "        \n",
              "  <svg xmlns=\"http://www.w3.org/2000/svg\" height=\"24px\"viewBox=\"0 0 24 24\"\n",
              "       width=\"24px\">\n",
              "    <path d=\"M0 0h24v24H0V0z\" fill=\"none\"/>\n",
              "    <path d=\"M18.56 5.44l.94 2.06.94-2.06 2.06-.94-2.06-.94-.94-2.06-.94 2.06-2.06.94zm-11 1L8.5 8.5l.94-2.06 2.06-.94-2.06-.94L8.5 2.5l-.94 2.06-2.06.94zm10 10l.94 2.06.94-2.06 2.06-.94-2.06-.94-.94-2.06-.94 2.06-2.06.94z\"/><path d=\"M17.41 7.96l-1.37-1.37c-.4-.4-.92-.59-1.43-.59-.52 0-1.04.2-1.43.59L10.3 9.45l-7.72 7.72c-.78.78-.78 2.05 0 2.83L4 21.41c.39.39.9.59 1.41.59.51 0 1.02-.2 1.41-.59l7.78-7.78 2.81-2.81c.8-.78.8-2.07 0-2.86zM5.41 20L4 18.59l7.72-7.72 1.47 1.35L5.41 20z\"/>\n",
              "  </svg>\n",
              "      </button>\n",
              "      \n",
              "  <style>\n",
              "    .colab-df-container {\n",
              "      display:flex;\n",
              "      flex-wrap:wrap;\n",
              "      gap: 12px;\n",
              "    }\n",
              "\n",
              "    .colab-df-convert {\n",
              "      background-color: #E8F0FE;\n",
              "      border: none;\n",
              "      border-radius: 50%;\n",
              "      cursor: pointer;\n",
              "      display: none;\n",
              "      fill: #1967D2;\n",
              "      height: 32px;\n",
              "      padding: 0 0 0 0;\n",
              "      width: 32px;\n",
              "    }\n",
              "\n",
              "    .colab-df-convert:hover {\n",
              "      background-color: #E2EBFA;\n",
              "      box-shadow: 0px 1px 2px rgba(60, 64, 67, 0.3), 0px 1px 3px 1px rgba(60, 64, 67, 0.15);\n",
              "      fill: #174EA6;\n",
              "    }\n",
              "\n",
              "    [theme=dark] .colab-df-convert {\n",
              "      background-color: #3B4455;\n",
              "      fill: #D2E3FC;\n",
              "    }\n",
              "\n",
              "    [theme=dark] .colab-df-convert:hover {\n",
              "      background-color: #434B5C;\n",
              "      box-shadow: 0px 1px 3px 1px rgba(0, 0, 0, 0.15);\n",
              "      filter: drop-shadow(0px 1px 2px rgba(0, 0, 0, 0.3));\n",
              "      fill: #FFFFFF;\n",
              "    }\n",
              "  </style>\n",
              "\n",
              "      <script>\n",
              "        const buttonEl =\n",
              "          document.querySelector('#df-f0255197-7166-4a79-ae9a-f6f35af641c9 button.colab-df-convert');\n",
              "        buttonEl.style.display =\n",
              "          google.colab.kernel.accessAllowed ? 'block' : 'none';\n",
              "\n",
              "        async function convertToInteractive(key) {\n",
              "          const element = document.querySelector('#df-f0255197-7166-4a79-ae9a-f6f35af641c9');\n",
              "          const dataTable =\n",
              "            await google.colab.kernel.invokeFunction('convertToInteractive',\n",
              "                                                     [key], {});\n",
              "          if (!dataTable) return;\n",
              "\n",
              "          const docLinkHtml = 'Like what you see? Visit the ' +\n",
              "            '<a target=\"_blank\" href=https://colab.research.google.com/notebooks/data_table.ipynb>data table notebook</a>'\n",
              "            + ' to learn more about interactive tables.';\n",
              "          element.innerHTML = '';\n",
              "          dataTable['output_type'] = 'display_data';\n",
              "          await google.colab.output.renderOutput(dataTable, element);\n",
              "          const docLink = document.createElement('div');\n",
              "          docLink.innerHTML = docLinkHtml;\n",
              "          element.appendChild(docLink);\n",
              "        }\n",
              "      </script>\n",
              "    </div>\n",
              "  </div>\n",
              "  "
            ]
          },
          "metadata": {}
        }
      ]
    },
    {
      "cell_type": "code",
      "source": [
        "fpath = '/content/health_data.csv'\n",
        "df = pd.read_csv(fpath)\n",
        "\n",
        "print(type(df))   # df의 자료형 출력\n",
        "display(df)   "
      ],
      "metadata": {
        "colab": {
          "base_uri": "https://localhost:8080/",
          "height": 442
        },
        "id": "4LpyyKAoLDxB",
        "outputId": "06137d74-379c-42b1-a775-965a22ab8e5b"
      },
      "execution_count": 7,
      "outputs": [
        {
          "output_type": "stream",
          "name": "stdout",
          "text": [
            "<class 'pandas.core.frame.DataFrame'>\n"
          ]
        },
        {
          "output_type": "display_data",
          "data": {
            "text/plain": [
              "      기준년도  가입자일련번호  시도코드 성별코드  연령대코드(5세단위)  신장(5Cm단위)  체중(5Kg 단위)   허리둘레  \\\n",
              "0     2020        1    36    M            9        165          60   72.1   \n",
              "1     2020        2    27    F           13        150          65   81.0   \n",
              "2     2020        3    11    F           12        155          55   70.0   \n",
              "3     2020        4    31    M           13        160          70   90.8   \n",
              "4     2020        5    41    F           12        155          50   75.2   \n",
              "...    ...      ...   ...  ...          ...        ...         ...    ...   \n",
              "9995  2020     9996    44    F           13        155          55   83.0   \n",
              "9996  2020     9997    43    F           11        160          55   77.5   \n",
              "9997  2020     9998    45    M           12        160          80   93.0   \n",
              "9998  2020     9999    27    F           15        155          55   78.0   \n",
              "9999  2020    10000    45    F           13        160          75  100.0   \n",
              "\n",
              "      시력(좌)  시력(우)  ...  혈청크레아티닌  (혈청지오티)AST  (혈청지오티)ALT  감마지티피    흡연상태  음주여부  \\\n",
              "0       1.2    1.5  ...      1.1        21.0        27.0   21.0      No    No   \n",
              "1       0.8    0.8  ...      0.5        18.0        15.0   15.0      No    No   \n",
              "2       0.6    0.7  ...      0.7        27.0        25.0    7.0      No    No   \n",
              "3       1.0    1.0  ...      1.2        65.0        97.0   72.0      No    No   \n",
              "4       1.5    1.2  ...      0.7        18.0        17.0   14.0      No    No   \n",
              "...     ...    ...  ...      ...         ...         ...    ...     ...   ...   \n",
              "9995    1.2    1.2  ...      0.7        20.0        21.0   20.0      No   Yes   \n",
              "9996    1.0    1.2  ...      0.7        24.0        22.0   21.0      No   Yes   \n",
              "9997    0.6    0.6  ...      1.0        22.0        27.0   35.0      No    No   \n",
              "9998    0.6    1.0  ...      1.0        26.0        24.0   21.0      No    No   \n",
              "9999    0.5    0.5  ...      0.6        32.0        24.0   30.0  NotNow   Yes   \n",
              "\n",
              "      구강검진수검여부  치아우식증유무   치석     데이터공개일자  \n",
              "0            0      NaN  NaN  12/29/2021  \n",
              "1            0      NaN  NaN  12/29/2021  \n",
              "2            0      NaN  NaN  12/29/2021  \n",
              "3            1      0.0  0.0  12/29/2021  \n",
              "4            0      NaN  NaN  12/29/2021  \n",
              "...        ...      ...  ...         ...  \n",
              "9995         0      NaN  NaN  12/29/2021  \n",
              "9996         1      0.0  0.0  12/29/2021  \n",
              "9997         0      NaN  NaN  12/29/2021  \n",
              "9998         0      NaN  NaN  12/29/2021  \n",
              "9999         0      NaN  NaN  12/29/2021  \n",
              "\n",
              "[10000 rows x 31 columns]"
            ],
            "text/html": [
              "\n",
              "  <div id=\"df-ff8d4f21-dcdd-4c9c-9bc4-5481fbae0950\">\n",
              "    <div class=\"colab-df-container\">\n",
              "      <div>\n",
              "<style scoped>\n",
              "    .dataframe tbody tr th:only-of-type {\n",
              "        vertical-align: middle;\n",
              "    }\n",
              "\n",
              "    .dataframe tbody tr th {\n",
              "        vertical-align: top;\n",
              "    }\n",
              "\n",
              "    .dataframe thead th {\n",
              "        text-align: right;\n",
              "    }\n",
              "</style>\n",
              "<table border=\"1\" class=\"dataframe\">\n",
              "  <thead>\n",
              "    <tr style=\"text-align: right;\">\n",
              "      <th></th>\n",
              "      <th>기준년도</th>\n",
              "      <th>가입자일련번호</th>\n",
              "      <th>시도코드</th>\n",
              "      <th>성별코드</th>\n",
              "      <th>연령대코드(5세단위)</th>\n",
              "      <th>신장(5Cm단위)</th>\n",
              "      <th>체중(5Kg 단위)</th>\n",
              "      <th>허리둘레</th>\n",
              "      <th>시력(좌)</th>\n",
              "      <th>시력(우)</th>\n",
              "      <th>...</th>\n",
              "      <th>혈청크레아티닌</th>\n",
              "      <th>(혈청지오티)AST</th>\n",
              "      <th>(혈청지오티)ALT</th>\n",
              "      <th>감마지티피</th>\n",
              "      <th>흡연상태</th>\n",
              "      <th>음주여부</th>\n",
              "      <th>구강검진수검여부</th>\n",
              "      <th>치아우식증유무</th>\n",
              "      <th>치석</th>\n",
              "      <th>데이터공개일자</th>\n",
              "    </tr>\n",
              "  </thead>\n",
              "  <tbody>\n",
              "    <tr>\n",
              "      <th>0</th>\n",
              "      <td>2020</td>\n",
              "      <td>1</td>\n",
              "      <td>36</td>\n",
              "      <td>M</td>\n",
              "      <td>9</td>\n",
              "      <td>165</td>\n",
              "      <td>60</td>\n",
              "      <td>72.1</td>\n",
              "      <td>1.2</td>\n",
              "      <td>1.5</td>\n",
              "      <td>...</td>\n",
              "      <td>1.1</td>\n",
              "      <td>21.0</td>\n",
              "      <td>27.0</td>\n",
              "      <td>21.0</td>\n",
              "      <td>No</td>\n",
              "      <td>No</td>\n",
              "      <td>0</td>\n",
              "      <td>NaN</td>\n",
              "      <td>NaN</td>\n",
              "      <td>12/29/2021</td>\n",
              "    </tr>\n",
              "    <tr>\n",
              "      <th>1</th>\n",
              "      <td>2020</td>\n",
              "      <td>2</td>\n",
              "      <td>27</td>\n",
              "      <td>F</td>\n",
              "      <td>13</td>\n",
              "      <td>150</td>\n",
              "      <td>65</td>\n",
              "      <td>81.0</td>\n",
              "      <td>0.8</td>\n",
              "      <td>0.8</td>\n",
              "      <td>...</td>\n",
              "      <td>0.5</td>\n",
              "      <td>18.0</td>\n",
              "      <td>15.0</td>\n",
              "      <td>15.0</td>\n",
              "      <td>No</td>\n",
              "      <td>No</td>\n",
              "      <td>0</td>\n",
              "      <td>NaN</td>\n",
              "      <td>NaN</td>\n",
              "      <td>12/29/2021</td>\n",
              "    </tr>\n",
              "    <tr>\n",
              "      <th>2</th>\n",
              "      <td>2020</td>\n",
              "      <td>3</td>\n",
              "      <td>11</td>\n",
              "      <td>F</td>\n",
              "      <td>12</td>\n",
              "      <td>155</td>\n",
              "      <td>55</td>\n",
              "      <td>70.0</td>\n",
              "      <td>0.6</td>\n",
              "      <td>0.7</td>\n",
              "      <td>...</td>\n",
              "      <td>0.7</td>\n",
              "      <td>27.0</td>\n",
              "      <td>25.0</td>\n",
              "      <td>7.0</td>\n",
              "      <td>No</td>\n",
              "      <td>No</td>\n",
              "      <td>0</td>\n",
              "      <td>NaN</td>\n",
              "      <td>NaN</td>\n",
              "      <td>12/29/2021</td>\n",
              "    </tr>\n",
              "    <tr>\n",
              "      <th>3</th>\n",
              "      <td>2020</td>\n",
              "      <td>4</td>\n",
              "      <td>31</td>\n",
              "      <td>M</td>\n",
              "      <td>13</td>\n",
              "      <td>160</td>\n",
              "      <td>70</td>\n",
              "      <td>90.8</td>\n",
              "      <td>1.0</td>\n",
              "      <td>1.0</td>\n",
              "      <td>...</td>\n",
              "      <td>1.2</td>\n",
              "      <td>65.0</td>\n",
              "      <td>97.0</td>\n",
              "      <td>72.0</td>\n",
              "      <td>No</td>\n",
              "      <td>No</td>\n",
              "      <td>1</td>\n",
              "      <td>0.0</td>\n",
              "      <td>0.0</td>\n",
              "      <td>12/29/2021</td>\n",
              "    </tr>\n",
              "    <tr>\n",
              "      <th>4</th>\n",
              "      <td>2020</td>\n",
              "      <td>5</td>\n",
              "      <td>41</td>\n",
              "      <td>F</td>\n",
              "      <td>12</td>\n",
              "      <td>155</td>\n",
              "      <td>50</td>\n",
              "      <td>75.2</td>\n",
              "      <td>1.5</td>\n",
              "      <td>1.2</td>\n",
              "      <td>...</td>\n",
              "      <td>0.7</td>\n",
              "      <td>18.0</td>\n",
              "      <td>17.0</td>\n",
              "      <td>14.0</td>\n",
              "      <td>No</td>\n",
              "      <td>No</td>\n",
              "      <td>0</td>\n",
              "      <td>NaN</td>\n",
              "      <td>NaN</td>\n",
              "      <td>12/29/2021</td>\n",
              "    </tr>\n",
              "    <tr>\n",
              "      <th>...</th>\n",
              "      <td>...</td>\n",
              "      <td>...</td>\n",
              "      <td>...</td>\n",
              "      <td>...</td>\n",
              "      <td>...</td>\n",
              "      <td>...</td>\n",
              "      <td>...</td>\n",
              "      <td>...</td>\n",
              "      <td>...</td>\n",
              "      <td>...</td>\n",
              "      <td>...</td>\n",
              "      <td>...</td>\n",
              "      <td>...</td>\n",
              "      <td>...</td>\n",
              "      <td>...</td>\n",
              "      <td>...</td>\n",
              "      <td>...</td>\n",
              "      <td>...</td>\n",
              "      <td>...</td>\n",
              "      <td>...</td>\n",
              "      <td>...</td>\n",
              "    </tr>\n",
              "    <tr>\n",
              "      <th>9995</th>\n",
              "      <td>2020</td>\n",
              "      <td>9996</td>\n",
              "      <td>44</td>\n",
              "      <td>F</td>\n",
              "      <td>13</td>\n",
              "      <td>155</td>\n",
              "      <td>55</td>\n",
              "      <td>83.0</td>\n",
              "      <td>1.2</td>\n",
              "      <td>1.2</td>\n",
              "      <td>...</td>\n",
              "      <td>0.7</td>\n",
              "      <td>20.0</td>\n",
              "      <td>21.0</td>\n",
              "      <td>20.0</td>\n",
              "      <td>No</td>\n",
              "      <td>Yes</td>\n",
              "      <td>0</td>\n",
              "      <td>NaN</td>\n",
              "      <td>NaN</td>\n",
              "      <td>12/29/2021</td>\n",
              "    </tr>\n",
              "    <tr>\n",
              "      <th>9996</th>\n",
              "      <td>2020</td>\n",
              "      <td>9997</td>\n",
              "      <td>43</td>\n",
              "      <td>F</td>\n",
              "      <td>11</td>\n",
              "      <td>160</td>\n",
              "      <td>55</td>\n",
              "      <td>77.5</td>\n",
              "      <td>1.0</td>\n",
              "      <td>1.2</td>\n",
              "      <td>...</td>\n",
              "      <td>0.7</td>\n",
              "      <td>24.0</td>\n",
              "      <td>22.0</td>\n",
              "      <td>21.0</td>\n",
              "      <td>No</td>\n",
              "      <td>Yes</td>\n",
              "      <td>1</td>\n",
              "      <td>0.0</td>\n",
              "      <td>0.0</td>\n",
              "      <td>12/29/2021</td>\n",
              "    </tr>\n",
              "    <tr>\n",
              "      <th>9997</th>\n",
              "      <td>2020</td>\n",
              "      <td>9998</td>\n",
              "      <td>45</td>\n",
              "      <td>M</td>\n",
              "      <td>12</td>\n",
              "      <td>160</td>\n",
              "      <td>80</td>\n",
              "      <td>93.0</td>\n",
              "      <td>0.6</td>\n",
              "      <td>0.6</td>\n",
              "      <td>...</td>\n",
              "      <td>1.0</td>\n",
              "      <td>22.0</td>\n",
              "      <td>27.0</td>\n",
              "      <td>35.0</td>\n",
              "      <td>No</td>\n",
              "      <td>No</td>\n",
              "      <td>0</td>\n",
              "      <td>NaN</td>\n",
              "      <td>NaN</td>\n",
              "      <td>12/29/2021</td>\n",
              "    </tr>\n",
              "    <tr>\n",
              "      <th>9998</th>\n",
              "      <td>2020</td>\n",
              "      <td>9999</td>\n",
              "      <td>27</td>\n",
              "      <td>F</td>\n",
              "      <td>15</td>\n",
              "      <td>155</td>\n",
              "      <td>55</td>\n",
              "      <td>78.0</td>\n",
              "      <td>0.6</td>\n",
              "      <td>1.0</td>\n",
              "      <td>...</td>\n",
              "      <td>1.0</td>\n",
              "      <td>26.0</td>\n",
              "      <td>24.0</td>\n",
              "      <td>21.0</td>\n",
              "      <td>No</td>\n",
              "      <td>No</td>\n",
              "      <td>0</td>\n",
              "      <td>NaN</td>\n",
              "      <td>NaN</td>\n",
              "      <td>12/29/2021</td>\n",
              "    </tr>\n",
              "    <tr>\n",
              "      <th>9999</th>\n",
              "      <td>2020</td>\n",
              "      <td>10000</td>\n",
              "      <td>45</td>\n",
              "      <td>F</td>\n",
              "      <td>13</td>\n",
              "      <td>160</td>\n",
              "      <td>75</td>\n",
              "      <td>100.0</td>\n",
              "      <td>0.5</td>\n",
              "      <td>0.5</td>\n",
              "      <td>...</td>\n",
              "      <td>0.6</td>\n",
              "      <td>32.0</td>\n",
              "      <td>24.0</td>\n",
              "      <td>30.0</td>\n",
              "      <td>NotNow</td>\n",
              "      <td>Yes</td>\n",
              "      <td>0</td>\n",
              "      <td>NaN</td>\n",
              "      <td>NaN</td>\n",
              "      <td>12/29/2021</td>\n",
              "    </tr>\n",
              "  </tbody>\n",
              "</table>\n",
              "<p>10000 rows × 31 columns</p>\n",
              "</div>\n",
              "      <button class=\"colab-df-convert\" onclick=\"convertToInteractive('df-ff8d4f21-dcdd-4c9c-9bc4-5481fbae0950')\"\n",
              "              title=\"Convert this dataframe to an interactive table.\"\n",
              "              style=\"display:none;\">\n",
              "        \n",
              "  <svg xmlns=\"http://www.w3.org/2000/svg\" height=\"24px\"viewBox=\"0 0 24 24\"\n",
              "       width=\"24px\">\n",
              "    <path d=\"M0 0h24v24H0V0z\" fill=\"none\"/>\n",
              "    <path d=\"M18.56 5.44l.94 2.06.94-2.06 2.06-.94-2.06-.94-.94-2.06-.94 2.06-2.06.94zm-11 1L8.5 8.5l.94-2.06 2.06-.94-2.06-.94L8.5 2.5l-.94 2.06-2.06.94zm10 10l.94 2.06.94-2.06 2.06-.94-2.06-.94-.94-2.06-.94 2.06-2.06.94z\"/><path d=\"M17.41 7.96l-1.37-1.37c-.4-.4-.92-.59-1.43-.59-.52 0-1.04.2-1.43.59L10.3 9.45l-7.72 7.72c-.78.78-.78 2.05 0 2.83L4 21.41c.39.39.9.59 1.41.59.51 0 1.02-.2 1.41-.59l7.78-7.78 2.81-2.81c.8-.78.8-2.07 0-2.86zM5.41 20L4 18.59l7.72-7.72 1.47 1.35L5.41 20z\"/>\n",
              "  </svg>\n",
              "      </button>\n",
              "      \n",
              "  <style>\n",
              "    .colab-df-container {\n",
              "      display:flex;\n",
              "      flex-wrap:wrap;\n",
              "      gap: 12px;\n",
              "    }\n",
              "\n",
              "    .colab-df-convert {\n",
              "      background-color: #E8F0FE;\n",
              "      border: none;\n",
              "      border-radius: 50%;\n",
              "      cursor: pointer;\n",
              "      display: none;\n",
              "      fill: #1967D2;\n",
              "      height: 32px;\n",
              "      padding: 0 0 0 0;\n",
              "      width: 32px;\n",
              "    }\n",
              "\n",
              "    .colab-df-convert:hover {\n",
              "      background-color: #E2EBFA;\n",
              "      box-shadow: 0px 1px 2px rgba(60, 64, 67, 0.3), 0px 1px 3px 1px rgba(60, 64, 67, 0.15);\n",
              "      fill: #174EA6;\n",
              "    }\n",
              "\n",
              "    [theme=dark] .colab-df-convert {\n",
              "      background-color: #3B4455;\n",
              "      fill: #D2E3FC;\n",
              "    }\n",
              "\n",
              "    [theme=dark] .colab-df-convert:hover {\n",
              "      background-color: #434B5C;\n",
              "      box-shadow: 0px 1px 3px 1px rgba(0, 0, 0, 0.15);\n",
              "      filter: drop-shadow(0px 1px 2px rgba(0, 0, 0, 0.3));\n",
              "      fill: #FFFFFF;\n",
              "    }\n",
              "  </style>\n",
              "\n",
              "      <script>\n",
              "        const buttonEl =\n",
              "          document.querySelector('#df-ff8d4f21-dcdd-4c9c-9bc4-5481fbae0950 button.colab-df-convert');\n",
              "        buttonEl.style.display =\n",
              "          google.colab.kernel.accessAllowed ? 'block' : 'none';\n",
              "\n",
              "        async function convertToInteractive(key) {\n",
              "          const element = document.querySelector('#df-ff8d4f21-dcdd-4c9c-9bc4-5481fbae0950');\n",
              "          const dataTable =\n",
              "            await google.colab.kernel.invokeFunction('convertToInteractive',\n",
              "                                                     [key], {});\n",
              "          if (!dataTable) return;\n",
              "\n",
              "          const docLinkHtml = 'Like what you see? Visit the ' +\n",
              "            '<a target=\"_blank\" href=https://colab.research.google.com/notebooks/data_table.ipynb>data table notebook</a>'\n",
              "            + ' to learn more about interactive tables.';\n",
              "          element.innerHTML = '';\n",
              "          dataTable['output_type'] = 'display_data';\n",
              "          await google.colab.output.renderOutput(dataTable, element);\n",
              "          const docLink = document.createElement('div');\n",
              "          docLink.innerHTML = docLinkHtml;\n",
              "          element.appendChild(docLink);\n",
              "        }\n",
              "      </script>\n",
              "    </div>\n",
              "  </div>\n",
              "  "
            ]
          },
          "metadata": {}
        }
      ]
    },
    {
      "cell_type": "code",
      "source": [
        "df.info() "
      ],
      "metadata": {
        "colab": {
          "base_uri": "https://localhost:8080/"
        },
        "id": "oVlmh3_xLQjS",
        "outputId": "68261df1-6cf9-4a54-bbb2-ae291e9a89eb"
      },
      "execution_count": null,
      "outputs": [
        {
          "output_type": "stream",
          "name": "stdout",
          "text": [
            "<class 'pandas.core.frame.DataFrame'>\n",
            "RangeIndex: 10000 entries, 0 to 9999\n",
            "Data columns (total 31 columns):\n",
            " #   Column       Non-Null Count  Dtype  \n",
            "---  ------       --------------  -----  \n",
            " 0   기준년도         10000 non-null  int64  \n",
            " 1   가입자일련번호      10000 non-null  int64  \n",
            " 2   시도코드         10000 non-null  int64  \n",
            " 3   성별코드         10000 non-null  object \n",
            " 4   연령대코드(5세단위)  10000 non-null  int64  \n",
            " 5   신장(5Cm단위)    10000 non-null  int64  \n",
            " 6   체중(5Kg 단위)   10000 non-null  int64  \n",
            " 7   허리둘레         10000 non-null  float64\n",
            " 8   시력(좌)        10000 non-null  float64\n",
            " 9   시력(우)        10000 non-null  float64\n",
            " 10  청력(좌)        10000 non-null  int64  \n",
            " 11  청력(우)        10000 non-null  int64  \n",
            " 12  수축기혈압        9912 non-null   float64\n",
            " 13  이완기혈압        9912 non-null   float64\n",
            " 14  식전혈당(공복혈당)   9912 non-null   float64\n",
            " 15  총콜레스테롤       4044 non-null   float64\n",
            " 16  트리글리세라이드     4044 non-null   float64\n",
            " 17  HDL콜레스테롤     4044 non-null   float64\n",
            " 18  LDL콜레스테롤     3977 non-null   float64\n",
            " 19  혈색소          9912 non-null   float64\n",
            " 20  요단백          9861 non-null   float64\n",
            " 21  혈청크레아티닌      9912 non-null   float64\n",
            " 22  (혈청지오티)AST   9912 non-null   float64\n",
            " 23  (혈청지오티)ALT   9912 non-null   float64\n",
            " 24  감마지티피        9912 non-null   float64\n",
            " 25  흡연상태         9998 non-null   object \n",
            " 26  음주여부         9999 non-null   object \n",
            " 27  구강검진수검여부     10000 non-null  int64  \n",
            " 28  치아우식증유무      3251 non-null   float64\n",
            " 29  치석           3251 non-null   float64\n",
            " 30  데이터공개일자      10000 non-null  object \n",
            "dtypes: float64(18), int64(9), object(4)\n",
            "memory usage: 2.4+ MB\n"
          ]
        }
      ]
    },
    {
      "cell_type": "code",
      "source": [
        "df.isnull().sum()"
      ],
      "metadata": {
        "colab": {
          "base_uri": "https://localhost:8080/"
        },
        "id": "mtX_b72FZslQ",
        "outputId": "20e9d63f-e99a-4f4f-c21b-431c4d803220"
      },
      "execution_count": null,
      "outputs": [
        {
          "output_type": "execute_result",
          "data": {
            "text/plain": [
              "기준년도              0\n",
              "가입자일련번호           0\n",
              "시도코드              0\n",
              "성별코드              0\n",
              "연령대코드(5세단위)       0\n",
              "신장(5Cm단위)         0\n",
              "체중(5Kg 단위)        0\n",
              "허리둘레              0\n",
              "시력(좌)             0\n",
              "시력(우)             0\n",
              "청력(좌)             0\n",
              "청력(우)             0\n",
              "수축기혈압            88\n",
              "이완기혈압            88\n",
              "식전혈당(공복혈당)       88\n",
              "총콜레스테롤         5956\n",
              "트리글리세라이드       5956\n",
              "HDL콜레스테롤       5956\n",
              "LDL콜레스테롤       6023\n",
              "혈색소              88\n",
              "요단백             139\n",
              "혈청크레아티닌          88\n",
              "(혈청지오티)AST       88\n",
              "(혈청지오티)ALT       88\n",
              "감마지티피            88\n",
              "흡연상태              2\n",
              "음주여부              1\n",
              "구강검진수검여부          0\n",
              "치아우식증유무        6749\n",
              "치석             6749\n",
              "데이터공개일자           0\n",
              "dtype: int64"
            ]
          },
          "metadata": {},
          "execution_count": 9
        }
      ]
    },
    {
      "cell_type": "code",
      "source": [
        "!apt-get update -qq\n",
        "!apt-get install fonts-nanum* -qq              # 나눔 폰트 설치\n",
        "\n",
        "sys_font=fm.findSystemFonts()\n",
        "print(f\"sys_font number: {len(sys_font)}\")\n",
        "print(sys_font)                                # 전체 폰트 개수\n",
        "\n",
        "nanum_font = [f for f in sys_font if 'Nanum' in f]\n",
        "print(f\"nanum_font number: {len(nanum_font)}\") # 나눔 폰트 개수 (설치된 것을 확인)\n",
        "#nanum_font"
      ],
      "metadata": {
        "colab": {
          "base_uri": "https://localhost:8080/"
        },
        "id": "-S_p8Ortdwri",
        "outputId": "4560d15f-028a-45eb-dbd6-978f663559a0"
      },
      "execution_count": null,
      "outputs": [
        {
          "output_type": "stream",
          "name": "stdout",
          "text": [
            "sys_font number: 48\n",
            "['/usr/share/fonts/truetype/nanum/NanumMyeongjo.ttf', '/usr/share/fonts/truetype/liberation/LiberationSerif-Bold.ttf', '/usr/share/fonts/truetype/nanum/NanumGothicCoding.ttf', '/usr/share/fonts/truetype/nanum/NanumMyeongjoEco.ttf', '/usr/share/fonts/truetype/nanum/NanumBrush.ttf', '/usr/share/fonts/truetype/nanum/NanumMyeongjoEcoBold.ttf', '/usr/share/fonts/truetype/nanum/NanumGothicBold.ttf', '/usr/share/fonts/truetype/nanum/NanumGothicEcoBold.ttf', '/usr/share/fonts/truetype/nanum/NanumGothicEco.ttf', '/usr/share/fonts/truetype/nanum/NanumBarunGothic.ttf', '/usr/share/fonts/truetype/liberation/LiberationSans-Italic.ttf', '/usr/share/fonts/truetype/nanum/NanumPen.ttf', '/usr/share/fonts/truetype/liberation/LiberationSerif-Regular.ttf', '/usr/share/fonts/truetype/nanum/NanumSquareRoundL.ttf', '/usr/share/fonts/truetype/liberation/LiberationSansNarrow-Italic.ttf', '/usr/share/fonts/truetype/nanum/NanumGothicLight.ttf', '/usr/share/fonts/truetype/liberation/LiberationSansNarrow-BoldItalic.ttf', '/usr/share/fonts/truetype/liberation/LiberationSerif-Italic.ttf', '/usr/share/fonts/truetype/nanum/NanumBarunGothicUltraLight.ttf', '/usr/share/fonts/truetype/liberation/LiberationMono-Italic.ttf', '/usr/share/fonts/truetype/liberation/LiberationSerif-BoldItalic.ttf', '/usr/share/fonts/truetype/nanum/NanumBarunpenR.ttf', '/usr/share/fonts/truetype/nanum/NanumGothicCoding-Bold.ttf', '/usr/share/fonts/truetype/liberation/LiberationSans-BoldItalic.ttf', '/usr/share/fonts/truetype/nanum/NanumBarunpenB.ttf', '/usr/share/fonts/truetype/humor-sans/Humor-Sans.ttf', '/usr/share/fonts/truetype/liberation/LiberationMono-Bold.ttf', '/usr/share/fonts/truetype/nanum/NanumMyeongjoEcoExtraBold.ttf', '/usr/share/fonts/truetype/liberation/LiberationSans-Bold.ttf', '/usr/share/fonts/truetype/nanum/NanumSquareEB.ttf', '/usr/share/fonts/truetype/liberation/LiberationSansNarrow-Bold.ttf', '/usr/share/fonts/truetype/nanum/NanumBarunGothicLight.ttf', '/usr/share/fonts/truetype/nanum/NanumSquareR.ttf', '/usr/share/fonts/truetype/nanum/NanumMyeongjoBold.ttf', '/usr/share/fonts/truetype/nanum/NanumSquareRoundB.ttf', '/usr/share/fonts/truetype/nanum/NanumSquareRoundEB.ttf', '/usr/share/fonts/truetype/nanum/NanumBarunGothicBold.ttf', '/usr/share/fonts/truetype/nanum/NanumSquareRoundR.ttf', '/usr/share/fonts/truetype/liberation/LiberationMono-BoldItalic.ttf', '/usr/share/fonts/truetype/liberation/LiberationSans-Regular.ttf', '/usr/share/fonts/truetype/nanum/NanumGothicExtraBold.ttf', '/usr/share/fonts/truetype/liberation/LiberationSansNarrow-Regular.ttf', '/usr/share/fonts/truetype/nanum/NanumGothic.ttf', '/usr/share/fonts/truetype/nanum/NanumMyeongjoExtraBold.ttf', '/usr/share/fonts/truetype/nanum/NanumSquareL.ttf', '/usr/share/fonts/truetype/nanum/NanumSquareB.ttf', '/usr/share/fonts/truetype/nanum/NanumGothicEcoExtraBold.ttf', '/usr/share/fonts/truetype/liberation/LiberationMono-Regular.ttf']\n",
            "nanum_font number: 31\n"
          ]
        }
      ]
    },
    {
      "cell_type": "code",
      "source": [
        "%matplotlib inline\n",
        "import matplotlib as mpl               # 기본 설정\n",
        "import matplotlib.pyplot as plt        # 그래프 관련\n",
        "import matplotlib.font_manager as fm   # 폰트 관련\n",
        "\n",
        "mpl.rcParams['axes.unicode_minus'] = False  ## 마이너스 부호가 깨지는 것 방지 \n",
        "\n",
        "# 설치된 나눔글꼴중 원하는 폰트의 전체 경로 가져오기 \n",
        "path = '/usr/share/fonts/truetype/liberation/LiberationSans-BoldItalic.ttf'  \n",
        "font_name = fm.FontProperties(fname=path, size=10).get_name()\n",
        "print(font_name)\n",
        "\n",
        "plt.rc('font', family=font_name)"
      ],
      "metadata": {
        "colab": {
          "base_uri": "https://localhost:8080/"
        },
        "id": "4YRQnp7leBb6",
        "outputId": "5999784a-944e-46a1-ed25-6c768922d224"
      },
      "execution_count": null,
      "outputs": [
        {
          "output_type": "stream",
          "name": "stdout",
          "text": [
            "Liberation Sans\n"
          ]
        }
      ]
    },
    {
      "cell_type": "code",
      "source": [
        "x= [10, 20, 30, 40]\n",
        "y= [-10, 4, 9, 16]\n",
        "plt.title('제목')\n",
        "plt.xlabel('날짜')\n",
        "plt.ylabel('매출액')\n",
        "plt.plot(x, y, label='매출액')\n",
        "plt.legend()"
      ],
      "metadata": {
        "colab": {
          "base_uri": "https://localhost:8080/",
          "height": 319
        },
        "id": "hY62avF2eEeX",
        "outputId": "4c43847a-8f27-4a2d-8a77-316a84848d3e"
      },
      "execution_count": null,
      "outputs": [
        {
          "output_type": "execute_result",
          "data": {
            "text/plain": [
              "<matplotlib.legend.Legend at 0x7fd088c50ed0>"
            ]
          },
          "metadata": {},
          "execution_count": 7
        },
        {
          "output_type": "display_data",
          "data": {
            "text/plain": [
              "<Figure size 432x288 with 1 Axes>"
            ],
            "image/png": "[encoded data removed]"
          },
          "metadata": {
            "needs_background": "light"
          }
        }
      ]
    },
    {
      "cell_type": "code",
      "source": [
        "!sudo apt-get install -y fonts-nanum\n",
        "!sudo fc-cache -fv\n",
        "!rm ~/.cache/matplotlib -rf"
      ],
      "metadata": {
        "colab": {
          "base_uri": "https://localhost:8080/"
        },
        "id": "FhM0pjlefcje",
        "outputId": "565aa347-805a-4a56-d2d0-6a2122fd3bba"
      },
      "execution_count": 6,
      "outputs": [
        {
          "output_type": "stream",
          "name": "stdout",
          "text": [
            "Reading package lists... Done\n",
            "Building dependency tree       \n",
            "Reading state information... Done\n",
            "The following package was automatically installed and is no longer required:\n",
            "  libnvidia-common-460\n",
            "Use 'sudo apt autoremove' to remove it.\n",
            "The following NEW packages will be installed:\n",
            "  fonts-nanum\n",
            "0 upgraded, 1 newly installed, 0 to remove and 29 not upgraded.\n",
            "Need to get 9,604 kB of archives.\n",
            "After this operation, 29.5 MB of additional disk space will be used.\n",
            "Get:1 http://archive.ubuntu.com/ubuntu bionic/universe amd64 fonts-nanum all 20170925-1 [9,604 kB]\n",
            "Fetched 9,604 kB in 3s (3,195 kB/s)\n",
            "debconf: unable to initialize frontend: Dialog\n",
            "debconf: (No usable dialog-like program is installed, so the dialog based frontend cannot be used. at /usr/share/perl5/Debconf/FrontEnd/Dialog.pm line 76, <> line 1.)\n",
            "debconf: falling back to frontend: Readline\n",
            "debconf: unable to initialize frontend: Readline\n",
            "debconf: (This frontend requires a controlling tty.)\n",
            "debconf: falling back to frontend: Teletype\n",
            "dpkg-preconfigure: unable to re-open stdin: \n",
            "Selecting previously unselected package fonts-nanum.\n",
            "(Reading database ... 123942 files and directories currently installed.)\n",
            "Preparing to unpack .../fonts-nanum_20170925-1_all.deb ...\n",
            "Unpacking fonts-nanum (20170925-1) ...\n",
            "Setting up fonts-nanum (20170925-1) ...\n",
            "Processing triggers for fontconfig (2.12.6-0ubuntu2) ...\n",
            "/usr/share/fonts: caching, new cache contents: 0 fonts, 1 dirs\n",
            "/usr/share/fonts/truetype: caching, new cache contents: 0 fonts, 3 dirs\n",
            "/usr/share/fonts/truetype/humor-sans: caching, new cache contents: 1 fonts, 0 dirs\n",
            "/usr/share/fonts/truetype/liberation: caching, new cache contents: 16 fonts, 0 dirs\n",
            "/usr/share/fonts/truetype/nanum: caching, new cache contents: 10 fonts, 0 dirs\n",
            "/usr/local/share/fonts: caching, new cache contents: 0 fonts, 0 dirs\n",
            "/root/.local/share/fonts: skipping, no such directory\n",
            "/root/.fonts: skipping, no such directory\n",
            "/var/cache/fontconfig: cleaning cache directory\n",
            "/root/.cache/fontconfig: not cleaning non-existent cache directory\n",
            "/root/.fontconfig: not cleaning non-existent cache directory\n",
            "fc-cache: succeeded\n"
          ]
        }
      ]
    },
    {
      "cell_type": "code",
      "source": [
        "import matplotlib.pyplot as plt\n",
        "\n",
        "plt.rc('font', family='NanumBarunGothic') "
      ],
      "metadata": {
        "id": "02MNUkspfpRR"
      },
      "execution_count": 4,
      "outputs": []
    },
    {
      "cell_type": "code",
      "source": [],
      "metadata": {
        "id": "dF1I7n-fg1ao"
      },
      "execution_count": null,
      "outputs": []
    },
    {
      "cell_type": "markdown",
      "source": [
        "# 가장 많은 연령대 살펴보기\n",
        "그 결과 50-54세, 40-44세, 60-64세, 55-59세, 45-49세 즉, 40초반부터 60중반의 나이대가 가장 많고 30후반부터 0세까지의 나이대의 데이터는 없음"
      ],
      "metadata": {
        "id": "6yH-KnIgg_Sn"
      }
    },
    {
      "cell_type": "code",
      "source": [
        "age = df['연령대코드(5세단위)'].value_counts()\n",
        "print(age)"
      ],
      "metadata": {
        "colab": {
          "base_uri": "https://localhost:8080/"
        },
        "id": "AVIU-rB4hCPA",
        "outputId": "6a835016-ff3f-48f0-e88d-e0476d799b3a"
      },
      "execution_count": null,
      "outputs": [
        {
          "output_type": "stream",
          "name": "stdout",
          "text": [
            "11    1798\n",
            "9     1547\n",
            "13    1534\n",
            "12    1498\n",
            "10    1369\n",
            "14     865\n",
            "15     698\n",
            "16     377\n",
            "17     259\n",
            "18      55\n",
            "Name: 연령대코드(5세단위), dtype: int64\n"
          ]
        }
      ]
    },
    {
      "cell_type": "code",
      "source": [
        "age.plot.bar(rot=45)"
      ],
      "metadata": {
        "colab": {
          "base_uri": "https://localhost:8080/",
          "height": 294
        },
        "id": "S6zpuxIijmGC",
        "outputId": "cd3bb3f5-7cdb-4651-818f-d0bf407f158e"
      },
      "execution_count": null,
      "outputs": [
        {
          "output_type": "execute_result",
          "data": {
            "text/plain": [
              "<matplotlib.axes._subplots.AxesSubplot at 0x7fd088669cd0>"
            ]
          },
          "metadata": {},
          "execution_count": 9
        },
        {
          "output_type": "display_data",
          "data": {
            "text/plain": [
              "<Figure size 432x288 with 1 Axes>"
            ],
            "image/png": "[encoded data removed]"
          },
          "metadata": {
            "needs_background": "light"
          }
        }
      ]
    },
    {
      "cell_type": "code",
      "source": [
        "x = [1798, 1547, 1534, 1498, 1369, 865, 698, 377, 259, 55 ]\n",
        "y = ['50-54세', '40-44세', '60-64세', '55-59세', '45-49세', '65-69세', '70-74세', '75-79세', '80-84세', '85세+']\n",
        "\n",
        "plt.figure(figsize=(10,10))\n",
        "plt.pie(x, labels= y, autopct='%.1f%%')  #autopct: format for values\n",
        "plt.title('연령분포')\n",
        "plt.show()"
      ],
      "metadata": {
        "colab": {
          "base_uri": "https://localhost:8080/",
          "height": 589
        },
        "id": "5Twfak4hiHLU",
        "outputId": "b910d3fc-7334-46b8-f495-ffeadee8f485"
      },
      "execution_count": null,
      "outputs": [
        {
          "output_type": "display_data",
          "data": {
            "text/plain": [
              "<Figure size 720x720 with 1 Axes>"
            ],
            "image/png": "[encoded data removed]"
          },
          "metadata": {}
        }
      ]
    },
    {
      "cell_type": "markdown",
      "source": [
        "# 전체 인원 중\n",
        "1. 흡연 여부\n",
        "2. 음주 여부\n"
      ],
      "metadata": {
        "id": "aB4MzZ1slvlX"
      }
    },
    {
      "cell_type": "code",
      "source": [
        "a = df['흡연상태'].value_counts()\n",
        "print(a)"
      ],
      "metadata": {
        "colab": {
          "base_uri": "https://localhost:8080/"
        },
        "id": "ditxZpXvmRNk",
        "outputId": "f83903d6-d629-450d-c3e0-946d7eeda960"
      },
      "execution_count": null,
      "outputs": [
        {
          "output_type": "stream",
          "name": "stdout",
          "text": [
            "No        6231\n",
            "NotNow    1926\n",
            "Yes       1841\n",
            "Name: 흡연상태, dtype: int64\n"
          ]
        }
      ]
    },
    {
      "cell_type": "code",
      "source": [
        "x = [6231, 1926, 1841]\n",
        "y = ['No', 'NotNow', 'Yes']\n",
        "\n",
        "plt.figure(figsize=(5,5))\n",
        "plt.pie(x, labels= y, autopct='%.1f%%')  #autopct: format for values\n",
        "plt.title('흡연여부')\n",
        "plt.show()\n",
        "\n",
        "#흡연하지 않는 사람 62.3%, 금연한 사람 19.3%, 흡여하는 사람 18.4%"
      ],
      "metadata": {
        "colab": {
          "base_uri": "https://localhost:8080/",
          "height": 318
        },
        "id": "fdGY5UYppE3T",
        "outputId": "2cdd316d-eb2f-47a3-ccd6-6039aa32ae52"
      },
      "execution_count": null,
      "outputs": [
        {
          "output_type": "display_data",
          "data": {
            "text/plain": [
              "<Figure size 360x360 with 1 Axes>"
            ],
            "image/png": "[encoded data removed]"
          },
          "metadata": {}
        }
      ]
    },
    {
      "cell_type": "markdown",
      "source": [
        "-> 흡연하지 않는 사람 62.3%, 금연한 사람 19.3%, 흡여하는 사람 18.4%"
      ],
      "metadata": {
        "id": "VHSJ8kEtBdTy"
      }
    },
    {
      "cell_type": "markdown",
      "source": [
        "성별에 따른 흡연여부"
      ],
      "metadata": {
        "id": "TM8AJg0hyHMP"
      }
    },
    {
      "cell_type": "code",
      "source": [
        "df.groupby([\"성별코드\", \"흡연상태\"])[\"가입자일련번호\"].count()"
      ],
      "metadata": {
        "colab": {
          "base_uri": "https://localhost:8080/"
        },
        "id": "l0dmCUDEtSvZ",
        "outputId": "a45fdee4-477f-4c18-f9d1-8300aec53f77"
      },
      "execution_count": null,
      "outputs": [
        {
          "output_type": "execute_result",
          "data": {
            "text/plain": [
              "성별코드  흡연상태  \n",
              "F     No        4626\n",
              "      NotNow     107\n",
              "      Yes        128\n",
              "M     No        1605\n",
              "      NotNow    1819\n",
              "      Yes       1713\n",
              "Name: 가입자일련번호, dtype: int64"
            ]
          },
          "metadata": {},
          "execution_count": 13
        }
      ]
    },
    {
      "cell_type": "code",
      "source": [
        "sns.countplot(x=\"흡연상태\", data=df, hue=\"성별코드\")"
      ],
      "metadata": {
        "colab": {
          "base_uri": "https://localhost:8080/",
          "height": 304
        },
        "id": "dqYijeIUuFaC",
        "outputId": "2a1a6276-710e-4850-daa8-7f3d41288a9e"
      },
      "execution_count": null,
      "outputs": [
        {
          "output_type": "execute_result",
          "data": {
            "text/plain": [
              "<matplotlib.axes._subplots.AxesSubplot at 0x7fd0884d8890>"
            ]
          },
          "metadata": {},
          "execution_count": 14
        },
        {
          "output_type": "display_data",
          "data": {
            "text/plain": [
              "<Figure size 432x288 with 1 Axes>"
            ],
            "image/png": "[encoded data removed]"
          },
          "metadata": {
            "needs_background": "light"
          }
        }
      ]
    },
    {
      "cell_type": "markdown",
      "source": [
        "-> 흡연을 하는 남성의 비율이 여성에 비해 높음"
      ],
      "metadata": {
        "id": "HvE75gBYBzS_"
      }
    },
    {
      "cell_type": "code",
      "source": [
        "b = df['음주여부'].value_counts()\n",
        "print(b)"
      ],
      "metadata": {
        "colab": {
          "base_uri": "https://localhost:8080/"
        },
        "id": "DDNtmTuxo4qb",
        "outputId": "bfae7484-b340-4810-dae4-a6cfbaf40a8d"
      },
      "execution_count": null,
      "outputs": [
        {
          "output_type": "stream",
          "name": "stdout",
          "text": [
            "Yes    5819\n",
            "No     4180\n",
            "Name: 음주여부, dtype: int64\n"
          ]
        }
      ]
    },
    {
      "cell_type": "code",
      "source": [
        "x = [5819, 4180]\n",
        "y = ['Yes', 'No']\n",
        "plt.figure(figsize=(5,5))\n",
        "plt.pie(x, labels= y, autopct='%.1f%%')  #autopct: format for values\n",
        "plt.title('음주여부')\n",
        "\n",
        "plt.show()\n"
      ],
      "metadata": {
        "colab": {
          "base_uri": "https://localhost:8080/",
          "height": 318
        },
        "id": "6q8GFu0xpFyU",
        "outputId": "e946dc8b-cd1b-4df3-a014-ae42b3c269d2"
      },
      "execution_count": null,
      "outputs": [
        {
          "output_type": "display_data",
          "data": {
            "text/plain": [
              "<Figure size 360x360 with 1 Axes>"
            ],
            "image/png": "[encoded data removed]"
          },
          "metadata": {}
        }
      ]
    },
    {
      "cell_type": "markdown",
      "source": [
        "-> 전체 중 58.2%가 음주를 하는 것으로 나타남"
      ],
      "metadata": {
        "id": "guc3eh8SCOlS"
      }
    },
    {
      "cell_type": "markdown",
      "source": [
        "성별에 따른 음주여부"
      ],
      "metadata": {
        "id": "4pM-oSrNyMzX"
      }
    },
    {
      "cell_type": "code",
      "source": [
        "df.groupby([\"성별코드\", \"음주여부\"])[\"가입자일련번호\"].count()"
      ],
      "metadata": {
        "colab": {
          "base_uri": "https://localhost:8080/"
        },
        "id": "nPFL2G0RsLqw",
        "outputId": "95aad19d-0359-4cb6-fb21-c94166548134"
      },
      "execution_count": null,
      "outputs": [
        {
          "output_type": "execute_result",
          "data": {
            "text/plain": [
              "성별코드  음주여부\n",
              "F     No      2825\n",
              "      Yes     2036\n",
              "M     No      1355\n",
              "      Yes     3783\n",
              "Name: 가입자일련번호, dtype: int64"
            ]
          },
          "metadata": {},
          "execution_count": 17
        }
      ]
    },
    {
      "cell_type": "code",
      "source": [
        "x = [2036, 2825]\n",
        "y = ['Yes', 'No']\n",
        "plt.figure(figsize=(5,5))\n",
        "plt.pie(x, labels= y, autopct='%.1f%%')  #autopct: format for values\n",
        "plt.title('여성의 음주여부')\n",
        "\n",
        "x = [3783, 1355]\n",
        "y = ['Yes', 'No']\n",
        "plt.figure(figsize=(5,5))\n",
        "plt.pie(x, labels= y, autopct='%.1f%%')  #autopct: format for values\n",
        "plt.title('남성의 음주여부')\n",
        "\n",
        "plt.show()"
      ],
      "metadata": {
        "colab": {
          "base_uri": "https://localhost:8080/",
          "height": 619
        },
        "id": "lEjxBE7IuUtR",
        "outputId": "b111068a-c593-405d-b636-807a1322e579"
      },
      "execution_count": null,
      "outputs": [
        {
          "output_type": "display_data",
          "data": {
            "text/plain": [
              "<Figure size 360x360 with 1 Axes>"
            ],
            "image/png": "[encoded data removed]"
          },
          "metadata": {}
        },
        {
          "output_type": "display_data",
          "data": {
            "text/plain": [
              "<Figure size 360x360 with 1 Axes>"
            ],
            "image/png": "[encoded data removed]"
          },
          "metadata": {}
        }
      ]
    },
    {
      "cell_type": "markdown",
      "source": [
        "-> 여성은 41.9%가, 남성은 73.6%가 음주하고 있는 걸로 보아 남성이 여성보다 음주를 즐긴다고 볼 수 있다."
      ],
      "metadata": {
        "id": "71GsGxaGEmGI"
      }
    },
    {
      "cell_type": "markdown",
      "source": [
        "#음주여부에 따른 감마지티피간수치"
      ],
      "metadata": {
        "id": "1HnqHJ74yxSV"
      }
    },
    {
      "cell_type": "code",
      "source": [
        "df.groupby([\"성별코드\", \"음주여부\"])[\"감마지티피\"].mean()"
      ],
      "metadata": {
        "colab": {
          "base_uri": "https://localhost:8080/"
        },
        "id": "dZaQew5iqSDW",
        "outputId": "a6892c17-f138-4c6d-9b02-bf24b67cabf4"
      },
      "execution_count": null,
      "outputs": [
        {
          "output_type": "execute_result",
          "data": {
            "text/plain": [
              "성별코드  음주여부\n",
              "F     No      24.175072\n",
              "      Yes     26.666667\n",
              "M     No      33.834711\n",
              "      Yes     56.007686\n",
              "Name: 감마지티피, dtype: float64"
            ]
          },
          "metadata": {},
          "execution_count": 22
        }
      ]
    },
    {
      "cell_type": "code",
      "source": [
        "s=df.groupby([\"성별코드\", \"음주여부\"])[\"감마지티피\"].mean()"
      ],
      "metadata": {
        "id": "Y54jiIDUwQrj"
      },
      "execution_count": null,
      "outputs": []
    },
    {
      "cell_type": "code",
      "source": [
        "s = df.hist(figsize=(12, 12))"
      ],
      "metadata": {
        "colab": {
          "base_uri": "https://localhost:8080/",
          "height": 720
        },
        "id": "GseR5yFfwUWx",
        "outputId": "91a7f11d-5ced-4b31-ecb9-f5ea159c494d"
      },
      "execution_count": null,
      "outputs": [
        {
          "output_type": "display_data",
          "data": {
            "text/plain": [
              "<Figure size 864x864 with 30 Axes>"
            ],
            "image/png": "[encoded data removed]"
          },
          "metadata": {
            "needs_background": "light"
          }
        }
      ]
    },
    {
      "cell_type": "code",
      "source": [
        "df.groupby([\"성별코드\", \"음주여부\"])[\"감마지티피\"].describe()"
      ],
      "metadata": {
        "colab": {
          "base_uri": "https://localhost:8080/",
          "height": 206
        },
        "id": "aSQncOZjvjT2",
        "outputId": "1961be4b-6b39-4737-ec15-9e66dbd2487d"
      },
      "execution_count": null,
      "outputs": [
        {
          "output_type": "execute_result",
          "data": {
            "text/plain": [
              "            count       mean        std  min   25%   50%   75%     max\n",
              "성별코드 음주여부                                                             \n",
              "F    No    2776.0  24.175072  27.704482  3.0  13.0  18.0  26.0   669.0\n",
              "     Yes   2031.0  26.666667  42.686815  3.0  14.0  18.0  27.0   966.0\n",
              "M    No    1331.0  33.834711  35.931091  7.0  18.0  25.0  37.0   705.0\n",
              "     Yes   3773.0  56.007686  79.714141  6.0  23.0  36.0  59.0  2322.0"
            ],
            "text/html": [
              "\n",
              "  <div id=\"df-83bc2059-3efa-46fd-85c9-3e1902c1eb03\">\n",
              "    <div class=\"colab-df-container\">\n",
              "      <div>\n",
              "<style scoped>\n",
              "    .dataframe tbody tr th:only-of-type {\n",
              "        vertical-align: middle;\n",
              "    }\n",
              "\n",
              "    .dataframe tbody tr th {\n",
              "        vertical-align: top;\n",
              "    }\n",
              "\n",
              "    .dataframe thead th {\n",
              "        text-align: right;\n",
              "    }\n",
              "</style>\n",
              "<table border=\"1\" class=\"dataframe\">\n",
              "  <thead>\n",
              "    <tr style=\"text-align: right;\">\n",
              "      <th></th>\n",
              "      <th></th>\n",
              "      <th>count</th>\n",
              "      <th>mean</th>\n",
              "      <th>std</th>\n",
              "      <th>min</th>\n",
              "      <th>25%</th>\n",
              "      <th>50%</th>\n",
              "      <th>75%</th>\n",
              "      <th>max</th>\n",
              "    </tr>\n",
              "    <tr>\n",
              "      <th>성별코드</th>\n",
              "      <th>음주여부</th>\n",
              "      <th></th>\n",
              "      <th></th>\n",
              "      <th></th>\n",
              "      <th></th>\n",
              "      <th></th>\n",
              "      <th></th>\n",
              "      <th></th>\n",
              "      <th></th>\n",
              "    </tr>\n",
              "  </thead>\n",
              "  <tbody>\n",
              "    <tr>\n",
              "      <th rowspan=\"2\" valign=\"top\">F</th>\n",
              "      <th>No</th>\n",
              "      <td>2776.0</td>\n",
              "      <td>24.175072</td>\n",
              "      <td>27.704482</td>\n",
              "      <td>3.0</td>\n",
              "      <td>13.0</td>\n",
              "      <td>18.0</td>\n",
              "      <td>26.0</td>\n",
              "      <td>669.0</td>\n",
              "    </tr>\n",
              "    <tr>\n",
              "      <th>Yes</th>\n",
              "      <td>2031.0</td>\n",
              "      <td>26.666667</td>\n",
              "      <td>42.686815</td>\n",
              "      <td>3.0</td>\n",
              "      <td>14.0</td>\n",
              "      <td>18.0</td>\n",
              "      <td>27.0</td>\n",
              "      <td>966.0</td>\n",
              "    </tr>\n",
              "    <tr>\n",
              "      <th rowspan=\"2\" valign=\"top\">M</th>\n",
              "      <th>No</th>\n",
              "      <td>1331.0</td>\n",
              "      <td>33.834711</td>\n",
              "      <td>35.931091</td>\n",
              "      <td>7.0</td>\n",
              "      <td>18.0</td>\n",
              "      <td>25.0</td>\n",
              "      <td>37.0</td>\n",
              "      <td>705.0</td>\n",
              "    </tr>\n",
              "    <tr>\n",
              "      <th>Yes</th>\n",
              "      <td>3773.0</td>\n",
              "      <td>56.007686</td>\n",
              "      <td>79.714141</td>\n",
              "      <td>6.0</td>\n",
              "      <td>23.0</td>\n",
              "      <td>36.0</td>\n",
              "      <td>59.0</td>\n",
              "      <td>2322.0</td>\n",
              "    </tr>\n",
              "  </tbody>\n",
              "</table>\n",
              "</div>\n",
              "      <button class=\"colab-df-convert\" onclick=\"convertToInteractive('df-83bc2059-3efa-46fd-85c9-3e1902c1eb03')\"\n",
              "              title=\"Convert this dataframe to an interactive table.\"\n",
              "              style=\"display:none;\">\n",
              "        \n",
              "  <svg xmlns=\"http://www.w3.org/2000/svg\" height=\"24px\"viewBox=\"0 0 24 24\"\n",
              "       width=\"24px\">\n",
              "    <path d=\"M0 0h24v24H0V0z\" fill=\"none\"/>\n",
              "    <path d=\"M18.56 5.44l.94 2.06.94-2.06 2.06-.94-2.06-.94-.94-2.06-.94 2.06-2.06.94zm-11 1L8.5 8.5l.94-2.06 2.06-.94-2.06-.94L8.5 2.5l-.94 2.06-2.06.94zm10 10l.94 2.06.94-2.06 2.06-.94-2.06-.94-.94-2.06-.94 2.06-2.06.94z\"/><path d=\"M17.41 7.96l-1.37-1.37c-.4-.4-.92-.59-1.43-.59-.52 0-1.04.2-1.43.59L10.3 9.45l-7.72 7.72c-.78.78-.78 2.05 0 2.83L4 21.41c.39.39.9.59 1.41.59.51 0 1.02-.2 1.41-.59l7.78-7.78 2.81-2.81c.8-.78.8-2.07 0-2.86zM5.41 20L4 18.59l7.72-7.72 1.47 1.35L5.41 20z\"/>\n",
              "  </svg>\n",
              "      </button>\n",
              "      \n",
              "  <style>\n",
              "    .colab-df-container {\n",
              "      display:flex;\n",
              "      flex-wrap:wrap;\n",
              "      gap: 12px;\n",
              "    }\n",
              "\n",
              "    .colab-df-convert {\n",
              "      background-color: #E8F0FE;\n",
              "      border: none;\n",
              "      border-radius: 50%;\n",
              "      cursor: pointer;\n",
              "      display: none;\n",
              "      fill: #1967D2;\n",
              "      height: 32px;\n",
              "      padding: 0 0 0 0;\n",
              "      width: 32px;\n",
              "    }\n",
              "\n",
              "    .colab-df-convert:hover {\n",
              "      background-color: #E2EBFA;\n",
              "      box-shadow: 0px 1px 2px rgba(60, 64, 67, 0.3), 0px 1px 3px 1px rgba(60, 64, 67, 0.15);\n",
              "      fill: #174EA6;\n",
              "    }\n",
              "\n",
              "    [theme=dark] .colab-df-convert {\n",
              "      background-color: #3B4455;\n",
              "      fill: #D2E3FC;\n",
              "    }\n",
              "\n",
              "    [theme=dark] .colab-df-convert:hover {\n",
              "      background-color: #434B5C;\n",
              "      box-shadow: 0px 1px 3px 1px rgba(0, 0, 0, 0.15);\n",
              "      filter: drop-shadow(0px 1px 2px rgba(0, 0, 0, 0.3));\n",
              "      fill: #FFFFFF;\n",
              "    }\n",
              "  </style>\n",
              "\n",
              "      <script>\n",
              "        const buttonEl =\n",
              "          document.querySelector('#df-83bc2059-3efa-46fd-85c9-3e1902c1eb03 button.colab-df-convert');\n",
              "        buttonEl.style.display =\n",
              "          google.colab.kernel.accessAllowed ? 'block' : 'none';\n",
              "\n",
              "        async function convertToInteractive(key) {\n",
              "          const element = document.querySelector('#df-83bc2059-3efa-46fd-85c9-3e1902c1eb03');\n",
              "          const dataTable =\n",
              "            await google.colab.kernel.invokeFunction('convertToInteractive',\n",
              "                                                     [key], {});\n",
              "          if (!dataTable) return;\n",
              "\n",
              "          const docLinkHtml = 'Like what you see? Visit the ' +\n",
              "            '<a target=\"_blank\" href=https://colab.research.google.com/notebooks/data_table.ipynb>data table notebook</a>'\n",
              "            + ' to learn more about interactive tables.';\n",
              "          element.innerHTML = '';\n",
              "          dataTable['output_type'] = 'display_data';\n",
              "          await google.colab.output.renderOutput(dataTable, element);\n",
              "          const docLink = document.createElement('div');\n",
              "          docLink.innerHTML = docLinkHtml;\n",
              "          element.appendChild(docLink);\n",
              "        }\n",
              "      </script>\n",
              "    </div>\n",
              "  </div>\n",
              "  "
            ]
          },
          "metadata": {},
          "execution_count": 21
        }
      ]
    },
    {
      "cell_type": "markdown",
      "source": [
        "# 음주여부에 따른 체중\n"
      ],
      "metadata": {
        "id": "wDUABYySy4LS"
      }
    },
    {
      "cell_type": "code",
      "source": [
        "plt.figure(figsize=(15,4))\n",
        "\n",
        "sns.countplot(data=df, x=\"체중(5Kg 단위)\", hue=\"음주여부\")"
      ],
      "metadata": {
        "colab": {
          "base_uri": "https://localhost:8080/",
          "height": 304
        },
        "id": "AECa1mKzy1KJ",
        "outputId": "febd3f2c-f608-451c-ddea-a1449caf889c"
      },
      "execution_count": null,
      "outputs": [
        {
          "output_type": "execute_result",
          "data": {
            "text/plain": [
              "<matplotlib.axes._subplots.AxesSubplot at 0x7fd087af20d0>"
            ]
          },
          "metadata": {},
          "execution_count": 23
        },
        {
          "output_type": "display_data",
          "data": {
            "text/plain": [
              "<Figure size 1080x288 with 1 Axes>"
            ],
            "image/png": "[encoded data removed]"
          },
          "metadata": {
            "needs_background": "light"
          }
        }
      ]
    },
    {
      "cell_type": "markdown",
      "source": [
        "-> 35kg부터 55kg까지 음주를 하지 않는 사람의 비율이 높지만, 60kg 지점부터 음주하는 사람의 비율이 높아지는 것을 알 수 있음, 따라서 음주를하지 않는 사람보다 음주를 하는 사람이 체중이 많이 나가는 것을 확인할 수 있다."
      ],
      "metadata": {
        "id": "l8U62KkpFf14"
      }
    },
    {
      "cell_type": "markdown",
      "source": [
        "#새로운 데이터 생성 후 음주여부에 따른 총콜레스트롤 수치(전처리 후)"
      ],
      "metadata": {
        "id": "Y9fBvuRZzWe4"
      }
    },
    {
      "cell_type": "code",
      "source": [
        "new=df.loc[:,['가입자일련번호', '성별코드','연령대코드(5세단위)', '체중(5Kg 단위)','흡연상태', '음주여부','식전혈당(공복혈당)','총콜레스테롤', '트리글리세라이드', 'LDL콜레스테롤', '(혈청지오티)AST','(혈청지오티)ALT','감마지티피' ]]\n",
        "new.dropna(inplace=True)\n",
        "new"
      ],
      "metadata": {
        "colab": {
          "base_uri": "https://localhost:8080/",
          "height": 424
        },
        "id": "LccIwo_x04KY",
        "outputId": "2137f77f-f6e2-4de5-97cf-284b5d70aa7f"
      },
      "execution_count": 9,
      "outputs": [
        {
          "output_type": "execute_result",
          "data": {
            "text/plain": [
              "      가입자일련번호 성별코드  연령대코드(5세단위)  체중(5Kg 단위)    흡연상태 음주여부  식전혈당(공복혈당)  총콜레스테롤  \\\n",
              "0           1    M            9          60      No   No        90.0   188.0   \n",
              "4           5    F           12          50      No   No       110.0   220.0   \n",
              "5           6    M            9          85     Yes  Yes        86.0   234.0   \n",
              "6           7    M            9          80     Yes  Yes       250.0   119.0   \n",
              "8           9    F           17          50      No   No       104.0   177.0   \n",
              "...       ...  ...          ...         ...     ...  ...         ...     ...   \n",
              "9985     9986    F           14          70      No   No        90.0   110.0   \n",
              "9989     9990    F           16          70      No   No        93.0   172.0   \n",
              "9991     9992    M           16          45      No   No       121.0   151.0   \n",
              "9994     9995    M           17          55      No   No       115.0   188.0   \n",
              "9999    10000    F           13          75  NotNow  Yes       105.0   164.0   \n",
              "\n",
              "      트리글리세라이드  LDL콜레스테롤  (혈청지오티)AST  (혈청지오티)ALT  감마지티피  \n",
              "0         58.0     118.0        21.0        27.0   21.0  \n",
              "4        171.0     133.0        18.0        17.0   14.0  \n",
              "5        183.0     147.0        25.0        32.0   26.0  \n",
              "6        265.0      40.0        18.0        20.0   35.0  \n",
              "8         61.0     101.0        42.0        48.0   39.0  \n",
              "...        ...       ...         ...         ...    ...  \n",
              "9985     132.0      49.0        23.0        24.0   15.0  \n",
              "9989     104.0      86.0        19.0        15.0   11.0  \n",
              "9991      74.0      82.0        20.0        13.0   16.0  \n",
              "9994     125.0     110.0        22.0        21.0   18.0  \n",
              "9999     132.0      86.0        32.0        24.0   30.0  \n",
              "\n",
              "[3976 rows x 13 columns]"
            ],
            "text/html": [
              "\n",
              "  <div id=\"df-448980f8-a8b5-44d7-8609-ded6b675a637\">\n",
              "    <div class=\"colab-df-container\">\n",
              "      <div>\n",
              "<style scoped>\n",
              "    .dataframe tbody tr th:only-of-type {\n",
              "        vertical-align: middle;\n",
              "    }\n",
              "\n",
              "    .dataframe tbody tr th {\n",
              "        vertical-align: top;\n",
              "    }\n",
              "\n",
              "    .dataframe thead th {\n",
              "        text-align: right;\n",
              "    }\n",
              "</style>\n",
              "<table border=\"1\" class=\"dataframe\">\n",
              "  <thead>\n",
              "    <tr style=\"text-align: right;\">\n",
              "      <th></th>\n",
              "      <th>가입자일련번호</th>\n",
              "      <th>성별코드</th>\n",
              "      <th>연령대코드(5세단위)</th>\n",
              "      <th>체중(5Kg 단위)</th>\n",
              "      <th>흡연상태</th>\n",
              "      <th>음주여부</th>\n",
              "      <th>식전혈당(공복혈당)</th>\n",
              "      <th>총콜레스테롤</th>\n",
              "      <th>트리글리세라이드</th>\n",
              "      <th>LDL콜레스테롤</th>\n",
              "      <th>(혈청지오티)AST</th>\n",
              "      <th>(혈청지오티)ALT</th>\n",
              "      <th>감마지티피</th>\n",
              "    </tr>\n",
              "  </thead>\n",
              "  <tbody>\n",
              "    <tr>\n",
              "      <th>0</th>\n",
              "      <td>1</td>\n",
              "      <td>M</td>\n",
              "      <td>9</td>\n",
              "      <td>60</td>\n",
              "      <td>No</td>\n",
              "      <td>No</td>\n",
              "      <td>90.0</td>\n",
              "      <td>188.0</td>\n",
              "      <td>58.0</td>\n",
              "      <td>118.0</td>\n",
              "      <td>21.0</td>\n",
              "      <td>27.0</td>\n",
              "      <td>21.0</td>\n",
              "    </tr>\n",
              "    <tr>\n",
              "      <th>4</th>\n",
              "      <td>5</td>\n",
              "      <td>F</td>\n",
              "      <td>12</td>\n",
              "      <td>50</td>\n",
              "      <td>No</td>\n",
              "      <td>No</td>\n",
              "      <td>110.0</td>\n",
              "      <td>220.0</td>\n",
              "      <td>171.0</td>\n",
              "      <td>133.0</td>\n",
              "      <td>18.0</td>\n",
              "      <td>17.0</td>\n",
              "      <td>14.0</td>\n",
              "    </tr>\n",
              "    <tr>\n",
              "      <th>5</th>\n",
              "      <td>6</td>\n",
              "      <td>M</td>\n",
              "      <td>9</td>\n",
              "      <td>85</td>\n",
              "      <td>Yes</td>\n",
              "      <td>Yes</td>\n",
              "      <td>86.0</td>\n",
              "      <td>234.0</td>\n",
              "      <td>183.0</td>\n",
              "      <td>147.0</td>\n",
              "      <td>25.0</td>\n",
              "      <td>32.0</td>\n",
              "      <td>26.0</td>\n",
              "    </tr>\n",
              "    <tr>\n",
              "      <th>6</th>\n",
              "      <td>7</td>\n",
              "      <td>M</td>\n",
              "      <td>9</td>\n",
              "      <td>80</td>\n",
              "      <td>Yes</td>\n",
              "      <td>Yes</td>\n",
              "      <td>250.0</td>\n",
              "      <td>119.0</td>\n",
              "      <td>265.0</td>\n",
              "      <td>40.0</td>\n",
              "      <td>18.0</td>\n",
              "      <td>20.0</td>\n",
              "      <td>35.0</td>\n",
              "    </tr>\n",
              "    <tr>\n",
              "      <th>8</th>\n",
              "      <td>9</td>\n",
              "      <td>F</td>\n",
              "      <td>17</td>\n",
              "      <td>50</td>\n",
              "      <td>No</td>\n",
              "      <td>No</td>\n",
              "      <td>104.0</td>\n",
              "      <td>177.0</td>\n",
              "      <td>61.0</td>\n",
              "      <td>101.0</td>\n",
              "      <td>42.0</td>\n",
              "      <td>48.0</td>\n",
              "      <td>39.0</td>\n",
              "    </tr>\n",
              "    <tr>\n",
              "      <th>...</th>\n",
              "      <td>...</td>\n",
              "      <td>...</td>\n",
              "      <td>...</td>\n",
              "      <td>...</td>\n",
              "      <td>...</td>\n",
              "      <td>...</td>\n",
              "      <td>...</td>\n",
              "      <td>...</td>\n",
              "      <td>...</td>\n",
              "      <td>...</td>\n",
              "      <td>...</td>\n",
              "      <td>...</td>\n",
              "      <td>...</td>\n",
              "    </tr>\n",
              "    <tr>\n",
              "      <th>9985</th>\n",
              "      <td>9986</td>\n",
              "      <td>F</td>\n",
              "      <td>14</td>\n",
              "      <td>70</td>\n",
              "      <td>No</td>\n",
              "      <td>No</td>\n",
              "      <td>90.0</td>\n",
              "      <td>110.0</td>\n",
              "      <td>132.0</td>\n",
              "      <td>49.0</td>\n",
              "      <td>23.0</td>\n",
              "      <td>24.0</td>\n",
              "      <td>15.0</td>\n",
              "    </tr>\n",
              "    <tr>\n",
              "      <th>9989</th>\n",
              "      <td>9990</td>\n",
              "      <td>F</td>\n",
              "      <td>16</td>\n",
              "      <td>70</td>\n",
              "      <td>No</td>\n",
              "      <td>No</td>\n",
              "      <td>93.0</td>\n",
              "      <td>172.0</td>\n",
              "      <td>104.0</td>\n",
              "      <td>86.0</td>\n",
              "      <td>19.0</td>\n",
              "      <td>15.0</td>\n",
              "      <td>11.0</td>\n",
              "    </tr>\n",
              "    <tr>\n",
              "      <th>9991</th>\n",
              "      <td>9992</td>\n",
              "      <td>M</td>\n",
              "      <td>16</td>\n",
              "      <td>45</td>\n",
              "      <td>No</td>\n",
              "      <td>No</td>\n",
              "      <td>121.0</td>\n",
              "      <td>151.0</td>\n",
              "      <td>74.0</td>\n",
              "      <td>82.0</td>\n",
              "      <td>20.0</td>\n",
              "      <td>13.0</td>\n",
              "      <td>16.0</td>\n",
              "    </tr>\n",
              "    <tr>\n",
              "      <th>9994</th>\n",
              "      <td>9995</td>\n",
              "      <td>M</td>\n",
              "      <td>17</td>\n",
              "      <td>55</td>\n",
              "      <td>No</td>\n",
              "      <td>No</td>\n",
              "      <td>115.0</td>\n",
              "      <td>188.0</td>\n",
              "      <td>125.0</td>\n",
              "      <td>110.0</td>\n",
              "      <td>22.0</td>\n",
              "      <td>21.0</td>\n",
              "      <td>18.0</td>\n",
              "    </tr>\n",
              "    <tr>\n",
              "      <th>9999</th>\n",
              "      <td>10000</td>\n",
              "      <td>F</td>\n",
              "      <td>13</td>\n",
              "      <td>75</td>\n",
              "      <td>NotNow</td>\n",
              "      <td>Yes</td>\n",
              "      <td>105.0</td>\n",
              "      <td>164.0</td>\n",
              "      <td>132.0</td>\n",
              "      <td>86.0</td>\n",
              "      <td>32.0</td>\n",
              "      <td>24.0</td>\n",
              "      <td>30.0</td>\n",
              "    </tr>\n",
              "  </tbody>\n",
              "</table>\n",
              "<p>3976 rows × 13 columns</p>\n",
              "</div>\n",
              "      <button class=\"colab-df-convert\" onclick=\"convertToInteractive('df-448980f8-a8b5-44d7-8609-ded6b675a637')\"\n",
              "              title=\"Convert this dataframe to an interactive table.\"\n",
              "              style=\"display:none;\">\n",
              "        \n",
              "  <svg xmlns=\"http://www.w3.org/2000/svg\" height=\"24px\"viewBox=\"0 0 24 24\"\n",
              "       width=\"24px\">\n",
              "    <path d=\"M0 0h24v24H0V0z\" fill=\"none\"/>\n",
              "    <path d=\"M18.56 5.44l.94 2.06.94-2.06 2.06-.94-2.06-.94-.94-2.06-.94 2.06-2.06.94zm-11 1L8.5 8.5l.94-2.06 2.06-.94-2.06-.94L8.5 2.5l-.94 2.06-2.06.94zm10 10l.94 2.06.94-2.06 2.06-.94-2.06-.94-.94-2.06-.94 2.06-2.06.94z\"/><path d=\"M17.41 7.96l-1.37-1.37c-.4-.4-.92-.59-1.43-.59-.52 0-1.04.2-1.43.59L10.3 9.45l-7.72 7.72c-.78.78-.78 2.05 0 2.83L4 21.41c.39.39.9.59 1.41.59.51 0 1.02-.2 1.41-.59l7.78-7.78 2.81-2.81c.8-.78.8-2.07 0-2.86zM5.41 20L4 18.59l7.72-7.72 1.47 1.35L5.41 20z\"/>\n",
              "  </svg>\n",
              "      </button>\n",
              "      \n",
              "  <style>\n",
              "    .colab-df-container {\n",
              "      display:flex;\n",
              "      flex-wrap:wrap;\n",
              "      gap: 12px;\n",
              "    }\n",
              "\n",
              "    .colab-df-convert {\n",
              "      background-color: #E8F0FE;\n",
              "      border: none;\n",
              "      border-radius: 50%;\n",
              "      cursor: pointer;\n",
              "      display: none;\n",
              "      fill: #1967D2;\n",
              "      height: 32px;\n",
              "      padding: 0 0 0 0;\n",
              "      width: 32px;\n",
              "    }\n",
              "\n",
              "    .colab-df-convert:hover {\n",
              "      background-color: #E2EBFA;\n",
              "      box-shadow: 0px 1px 2px rgba(60, 64, 67, 0.3), 0px 1px 3px 1px rgba(60, 64, 67, 0.15);\n",
              "      fill: #174EA6;\n",
              "    }\n",
              "\n",
              "    [theme=dark] .colab-df-convert {\n",
              "      background-color: #3B4455;\n",
              "      fill: #D2E3FC;\n",
              "    }\n",
              "\n",
              "    [theme=dark] .colab-df-convert:hover {\n",
              "      background-color: #434B5C;\n",
              "      box-shadow: 0px 1px 3px 1px rgba(0, 0, 0, 0.15);\n",
              "      filter: drop-shadow(0px 1px 2px rgba(0, 0, 0, 0.3));\n",
              "      fill: #FFFFFF;\n",
              "    }\n",
              "  </style>\n",
              "\n",
              "      <script>\n",
              "        const buttonEl =\n",
              "          document.querySelector('#df-448980f8-a8b5-44d7-8609-ded6b675a637 button.colab-df-convert');\n",
              "        buttonEl.style.display =\n",
              "          google.colab.kernel.accessAllowed ? 'block' : 'none';\n",
              "\n",
              "        async function convertToInteractive(key) {\n",
              "          const element = document.querySelector('#df-448980f8-a8b5-44d7-8609-ded6b675a637');\n",
              "          const dataTable =\n",
              "            await google.colab.kernel.invokeFunction('convertToInteractive',\n",
              "                                                     [key], {});\n",
              "          if (!dataTable) return;\n",
              "\n",
              "          const docLinkHtml = 'Like what you see? Visit the ' +\n",
              "            '<a target=\"_blank\" href=https://colab.research.google.com/notebooks/data_table.ipynb>data table notebook</a>'\n",
              "            + ' to learn more about interactive tables.';\n",
              "          element.innerHTML = '';\n",
              "          dataTable['output_type'] = 'display_data';\n",
              "          await google.colab.output.renderOutput(dataTable, element);\n",
              "          const docLink = document.createElement('div');\n",
              "          docLink.innerHTML = docLinkHtml;\n",
              "          element.appendChild(docLink);\n",
              "        }\n",
              "      </script>\n",
              "    </div>\n",
              "  </div>\n",
              "  "
            ]
          },
          "metadata": {},
          "execution_count": 9
        }
      ]
    },
    {
      "cell_type": "code",
      "source": [
        "new.isnull().sum()"
      ],
      "metadata": {
        "colab": {
          "base_uri": "https://localhost:8080/"
        },
        "id": "M6QztjBZ39Pw",
        "outputId": "90391f8b-7e72-4224-b226-e577fe02ba1f"
      },
      "execution_count": null,
      "outputs": [
        {
          "output_type": "execute_result",
          "data": {
            "text/plain": [
              "성별코드           0\n",
              "연령대코드(5세단위)    0\n",
              "체중(5Kg 단위)     0\n",
              "흡연상태           0\n",
              "음주여부           0\n",
              "식전혈당(공복혈당)     0\n",
              "총콜레스테롤         0\n",
              "트리글리세라이드       0\n",
              "LDL콜레스테롤       0\n",
              "(혈청지오티)AST     0\n",
              "(혈청지오티)ALT     0\n",
              "dtype: int64"
            ]
          },
          "metadata": {},
          "execution_count": 25
        }
      ]
    },
    {
      "cell_type": "markdown",
      "source": [
        "연령별 체중 -> 연령이 높아질수록, 체중이 줄어듬을 알 수 있다."
      ],
      "metadata": {
        "id": "uUM7K-fz_g9p"
      }
    },
    {
      "cell_type": "code",
      "source": [
        "plt.figure(figsize=(15,4))\n",
        "\n",
        "sns.lineplot(data=new, x=\"연령대코드(5세단위)\",y=\"체중(5Kg 단위)\")"
      ],
      "metadata": {
        "colab": {
          "base_uri": "https://localhost:8080/",
          "height": 324
        },
        "id": "DQdbR00w-7co",
        "outputId": "ab8cb209-3474-43ba-ae4a-51e519d480a3"
      },
      "execution_count": null,
      "outputs": [
        {
          "output_type": "execute_result",
          "data": {
            "text/plain": [
              "<matplotlib.axes._subplots.AxesSubplot at 0x7fba57cd16d0>"
            ]
          },
          "metadata": {},
          "execution_count": 105
        },
        {
          "output_type": "display_data",
          "data": {
            "text/plain": [
              "<Figure size 1080x288 with 1 Axes>"
            ],
            "image/png": "[encoded data removed]"
          },
          "metadata": {}
        }
      ]
    },
    {
      "cell_type": "markdown",
      "source": [
        "음주여부에 따른 체중\n",
        "-> 음주를 하는 사람일수록 체중이 많이 나감"
      ],
      "metadata": {
        "id": "QevJgC_G67po"
      }
    },
    {
      "cell_type": "code",
      "source": [
        "plt.figure(figsize=(15,4))\n",
        "\n",
        "sns.countplot(data=new, x=\"체중(5Kg 단위)\", hue=\"음주여부\")"
      ],
      "metadata": {
        "colab": {
          "base_uri": "https://localhost:8080/",
          "height": 283
        },
        "id": "9_gDB7mQ42vh",
        "outputId": "da0ba15c-9a66-4e4f-91bc-c2f437775eee"
      },
      "execution_count": null,
      "outputs": [
        {
          "output_type": "execute_result",
          "data": {
            "text/plain": [
              "<matplotlib.axes._subplots.AxesSubplot at 0x7fba583d6710>"
            ]
          },
          "metadata": {},
          "execution_count": 96
        },
        {
          "output_type": "display_data",
          "data": {
            "text/plain": [
              "<Figure size 1080x288 with 1 Axes>"
            ],
            "image/png": "[encoded data removed]"
          },
          "metadata": {}
        }
      ]
    },
    {
      "cell_type": "markdown",
      "source": [
        "연령별 음주여부에 따른 체중\n",
        "-> 음주를 할수록 체중이 높고, 연령이 높아질수록 체중은 적어짐"
      ],
      "metadata": {
        "id": "-bZNLcJ37HlA"
      }
    },
    {
      "cell_type": "code",
      "source": [
        "sns.barplot(data=new, x=\"연령대코드(5세단위)\", y=\"체중(5Kg 단위)\", hue=\"음주여부\")"
      ],
      "metadata": {
        "colab": {
          "base_uri": "https://localhost:8080/",
          "height": 304
        },
        "id": "w-swKr586pW-",
        "outputId": "2c6113e9-4647-4732-85a6-53df42eb23fd"
      },
      "execution_count": null,
      "outputs": [
        {
          "output_type": "execute_result",
          "data": {
            "text/plain": [
              "<matplotlib.axes._subplots.AxesSubplot at 0x7fba583350d0>"
            ]
          },
          "metadata": {},
          "execution_count": 97
        },
        {
          "output_type": "display_data",
          "data": {
            "text/plain": [
              "<Figure size 432x288 with 1 Axes>"
            ],
            "image/png": "[encoded data removed]"
          },
          "metadata": {}
        }
      ]
    },
    {
      "cell_type": "markdown",
      "source": [
        "같은 연령이라도 음주를 하는 사람의 체중이 높고, 음주여부에 상관없이 체중은 나이가 들수록 감소한다는 것을 알 수 있다."
      ],
      "metadata": {
        "id": "Jw_T9uSpG-EO"
      }
    },
    {
      "cell_type": "code",
      "source": [
        "plt.figure(figsize=(15,4))\n",
        "\n",
        "sns.lineplot(data=new, x=\"연령대코드(5세단위)\",y=\"체중(5Kg 단위)\", hue=\"음주여부\")"
      ],
      "metadata": {
        "colab": {
          "base_uri": "https://localhost:8080/",
          "height": 285
        },
        "id": "W_ZF-bmZ_1wq",
        "outputId": "83ce0a0f-faaf-48d4-9c30-932f861e65bd"
      },
      "execution_count": null,
      "outputs": [
        {
          "output_type": "execute_result",
          "data": {
            "text/plain": [
              "<matplotlib.axes._subplots.AxesSubplot at 0x7fba57be9210>"
            ]
          },
          "metadata": {},
          "execution_count": 107
        },
        {
          "output_type": "display_data",
          "data": {
            "text/plain": [
              "<Figure size 1080x288 with 1 Axes>"
            ],
            "image/png": "[encoded data removed]"
          },
          "metadata": {}
        }
      ]
    },
    {
      "cell_type": "markdown",
      "source": [
        "# 연령별 총콜레스테롤 수치"
      ],
      "metadata": {
        "id": "xPmjho4yAVAX"
      }
    },
    {
      "cell_type": "code",
      "source": [
        "sns.barplot(data=new, x=\"연령대코드(5세단위)\",y=\"총콜레스테롤\")"
      ],
      "metadata": {
        "colab": {
          "base_uri": "https://localhost:8080/",
          "height": 304
        },
        "id": "nMqdsE6DAZSf",
        "outputId": "dedc2ef0-6dbf-46b3-e8d5-f86cc3a6ccf1"
      },
      "execution_count": null,
      "outputs": [
        {
          "output_type": "execute_result",
          "data": {
            "text/plain": [
              "<matplotlib.axes._subplots.AxesSubplot at 0x7fba57b1fe90>"
            ]
          },
          "metadata": {},
          "execution_count": 108
        },
        {
          "output_type": "display_data",
          "data": {
            "text/plain": [
              "<Figure size 432x288 with 1 Axes>"
            ],
            "image/png": "[encoded data removed]"
          },
          "metadata": {}
        }
      ]
    },
    {
      "cell_type": "markdown",
      "source": [
        "-> 총콜레스테롤의 정상치는 150~250mg/d, 연령별 평균 총콜레스테롤을 구해봤을 때 모든 연령의 수치는 정상임을 알 수 있다."
      ],
      "metadata": {
        "id": "V_bUKnY-IU8p"
      }
    },
    {
      "cell_type": "markdown",
      "source": [
        "연령별 음주여부에 따른 총콜레스테롤 수치"
      ],
      "metadata": {
        "id": "JIVy31HO8_0K"
      }
    },
    {
      "cell_type": "code",
      "source": [
        "sns.barplot(data=new, x=\"연령대코드(5세단위)\", y=\"총콜레스테롤\", hue=\"음주여부\")"
      ],
      "metadata": {
        "colab": {
          "base_uri": "https://localhost:8080/",
          "height": 304
        },
        "id": "wQCaeJJN7knh",
        "outputId": "027f18cb-2c34-4a89-b706-85eacc21036b"
      },
      "execution_count": null,
      "outputs": [
        {
          "output_type": "execute_result",
          "data": {
            "text/plain": [
              "<matplotlib.axes._subplots.AxesSubplot at 0x7fba58161350>"
            ]
          },
          "metadata": {},
          "execution_count": 98
        },
        {
          "output_type": "display_data",
          "data": {
            "text/plain": [
              "<Figure size 432x288 with 1 Axes>"
            ],
            "image/png": "[encoded data removed]"
          },
          "metadata": {}
        }
      ]
    },
    {
      "cell_type": "markdown",
      "source": [
        "연령별 음주여부에 따른 총콜레스테롤을 보았을 때, 역시 모두 정상임을 알 수 있다. "
      ],
      "metadata": {
        "id": "QMba7GrMJDNa"
      }
    },
    {
      "cell_type": "markdown",
      "source": [
        "# 음주여부에 따른 체중별 총 콜레스테롤 "
      ],
      "metadata": {
        "id": "eToZrp4I9GWa"
      }
    },
    {
      "cell_type": "code",
      "source": [
        "new.groupby([\"음주여부\",\"체중(5Kg 단위)\"])[\"총콜레스테롤\"].mean()"
      ],
      "metadata": {
        "colab": {
          "base_uri": "https://localhost:8080/"
        },
        "id": "JGYvewY36Nc5",
        "outputId": "6cc9a74c-aa6d-47da-a99a-520d21d1b487"
      },
      "execution_count": null,
      "outputs": [
        {
          "output_type": "execute_result",
          "data": {
            "text/plain": [
              "음주여부  체중(5Kg 단위)\n",
              "No    30            245.500000\n",
              "      35            186.666667\n",
              "      40            196.461538\n",
              "      45            197.646667\n",
              "      50            198.170648\n",
              "      55            195.662651\n",
              "      60            197.705128\n",
              "      65            186.336538\n",
              "      70            193.531646\n",
              "      75            190.265306\n",
              "      80            197.458333\n",
              "      85            181.379310\n",
              "      90            192.000000\n",
              "      95            191.090909\n",
              "      100           202.666667\n",
              "      115           271.000000\n",
              "Yes   30            279.000000\n",
              "      35            226.750000\n",
              "      40            199.350000\n",
              "      45            201.344086\n",
              "      50            202.572072\n",
              "      55            198.721311\n",
              "      60            200.474138\n",
              "      65            198.370166\n",
              "      70            197.550162\n",
              "      75            200.173228\n",
              "      80            203.601351\n",
              "      85            200.437500\n",
              "      90            206.183673\n",
              "      95            203.080000\n",
              "      100           188.090909\n",
              "      105           204.428571\n",
              "      110           155.000000\n",
              "      115           166.333333\n",
              "      120           195.500000\n",
              "Name: 총콜레스테롤, dtype: float64"
            ]
          },
          "metadata": {},
          "execution_count": 99
        }
      ]
    },
    {
      "cell_type": "code",
      "source": [
        "sns.barplot(data=new, x=\"체중(5Kg 단위)\", y=\"총콜레스테롤\", hue=\"음주여부\")"
      ],
      "metadata": {
        "colab": {
          "base_uri": "https://localhost:8080/",
          "height": 304
        },
        "id": "ONQPO2ru8qK-",
        "outputId": "b927e54a-186d-4aed-ccef-bdc2b9f3f46f"
      },
      "execution_count": null,
      "outputs": [
        {
          "output_type": "execute_result",
          "data": {
            "text/plain": [
              "<matplotlib.axes._subplots.AxesSubplot at 0x7fba5805db50>"
            ]
          },
          "metadata": {},
          "execution_count": 101
        },
        {
          "output_type": "display_data",
          "data": {
            "text/plain": [
              "<Figure size 432x288 with 1 Axes>"
            ],
            "image/png": "[encoded data removed]"
          },
          "metadata": {}
        }
      ]
    },
    {
      "cell_type": "markdown",
      "source": [
        "-> 음주를 하지 않는 사람이면서 115kg이상의 몸무게를 가진 사람의 총콜레스테롤 수치는 271로 정상수치를 넘어가고, 음주를 하는 사람이면서 30kg의 체중을 가진 사람의 총콜레스테롤 수치는 279로 정상수치를 넘어감을 알 수 있다. 이는 음주여부보다는 사람의 체중이 총콜레스테롤 수치에 영향을 미친다는 것을 예측해볼 수 있다."
      ],
      "metadata": {
        "id": "UwxZMJPwJnes"
      }
    },
    {
      "cell_type": "markdown",
      "source": [
        "# 연령별 트리글리세라이드 수치\n",
        "정상치는 30-135mg/dL(0.34~1.52-mmol/ℓ) "
      ],
      "metadata": {
        "id": "oXi7spS_AlBT"
      }
    },
    {
      "cell_type": "code",
      "source": [
        "sns.barplot(data=new, x=\"연령대코드(5세단위)\", y=\"트리글리세라이드\")"
      ],
      "metadata": {
        "colab": {
          "base_uri": "https://localhost:8080/",
          "height": 304
        },
        "id": "3G0zB7GyAtlf",
        "outputId": "c4f00f4b-8b34-4127-befd-77830f8ad4a1"
      },
      "execution_count": null,
      "outputs": [
        {
          "output_type": "execute_result",
          "data": {
            "text/plain": [
              "<matplotlib.axes._subplots.AxesSubplot at 0x7fba57b15410>"
            ]
          },
          "metadata": {},
          "execution_count": 109
        },
        {
          "output_type": "display_data",
          "data": {
            "text/plain": [
              "<Figure size 432x288 with 1 Axes>"
            ],
            "image/png": "[encoded data removed]"
          },
          "metadata": {}
        }
      ]
    },
    {
      "cell_type": "markdown",
      "source": [
        "-> 모든 연령의 크리글리세라이드 수치는 정상"
      ],
      "metadata": {
        "id": "UIqS5G_RKPkj"
      }
    },
    {
      "cell_type": "markdown",
      "source": [
        "음주여부에 따른 연령별 트리글리세라이드 수치"
      ],
      "metadata": {
        "id": "heciFlUG9n6A"
      }
    },
    {
      "cell_type": "code",
      "source": [
        "sns.barplot(data=new, x=\"연령대코드(5세단위)\", y=\"트리글리세라이드\", hue=\"음주여부\")"
      ],
      "metadata": {
        "colab": {
          "base_uri": "https://localhost:8080/",
          "height": 304
        },
        "id": "HElB4ywv9aW8",
        "outputId": "72068fff-f0be-4cc5-cbab-f65bc2d46553"
      },
      "execution_count": null,
      "outputs": [
        {
          "output_type": "execute_result",
          "data": {
            "text/plain": [
              "<matplotlib.axes._subplots.AxesSubplot at 0x7fba57fdecd0>"
            ]
          },
          "metadata": {},
          "execution_count": 102
        },
        {
          "output_type": "display_data",
          "data": {
            "text/plain": [
              "<Figure size 432x288 with 1 Axes>"
            ],
            "image/png": "[encoded data removed]"
          },
          "metadata": {}
        }
      ]
    },
    {
      "cell_type": "markdown",
      "source": [
        "-> 음주를 하는 50-54세의 트리글리세라이드 수치는 135이상으로 정상수치를 넘는다는 것을 알 수 있다."
      ],
      "metadata": {
        "id": "m13cbZiNKtRE"
      }
    },
    {
      "cell_type": "markdown",
      "source": [
        "음주여부에 따른 체중별 트리글리세라이드 수치"
      ],
      "metadata": {
        "id": "dGNabFSf-yF4"
      }
    },
    {
      "cell_type": "code",
      "source": [
        "sns.barplot(data=new, x=\"체중(5Kg 단위)\", y=\"트리글리세라이드\", hue=\"음주여부\")"
      ],
      "metadata": {
        "colab": {
          "base_uri": "https://localhost:8080/",
          "height": 304
        },
        "id": "rjGwWaGN9swz",
        "outputId": "ad0f64f8-b68f-432f-a0b3-0e7e8b61070d"
      },
      "execution_count": null,
      "outputs": [
        {
          "output_type": "execute_result",
          "data": {
            "text/plain": [
              "<matplotlib.axes._subplots.AxesSubplot at 0x7fba57e31fd0>"
            ]
          },
          "metadata": {},
          "execution_count": 104
        },
        {
          "output_type": "display_data",
          "data": {
            "text/plain": [
              "<Figure size 432x288 with 1 Axes>"
            ],
            "image/png": "[encoded data removed]"
          },
          "metadata": {}
        }
      ]
    },
    {
      "cell_type": "code",
      "source": [
        "sns.lineplot(data=new, x=\"체중(5Kg 단위)\", y=\"트리글리세라이드\", hue=\"음주여부\")"
      ],
      "metadata": {
        "colab": {
          "base_uri": "https://localhost:8080/",
          "height": 304
        },
        "id": "fqX3Y2SiBNAb",
        "outputId": "d57f2ffa-756f-4580-841e-cec3dd6ca516"
      },
      "execution_count": null,
      "outputs": [
        {
          "output_type": "execute_result",
          "data": {
            "text/plain": [
              "<matplotlib.axes._subplots.AxesSubplot at 0x7fba579e9610>"
            ]
          },
          "metadata": {},
          "execution_count": 110
        },
        {
          "output_type": "display_data",
          "data": {
            "text/plain": [
              "<Figure size 432x288 with 1 Axes>"
            ],
            "image/png": "[encoded data removed]"
          },
          "metadata": {}
        }
      ]
    },
    {
      "cell_type": "code",
      "source": [
        "m=new.groupby([\"음주여부\",\"체중(5Kg 단위)\"])[\"트리글리세라이드\"].mean()\n",
        "m"
      ],
      "metadata": {
        "colab": {
          "base_uri": "https://localhost:8080/"
        },
        "id": "V2YTeYt5C8kO",
        "outputId": "55510285-27c3-441f-b1de-116631df1bb6"
      },
      "execution_count": null,
      "outputs": [
        {
          "output_type": "execute_result",
          "data": {
            "text/plain": [
              "음주여부  체중(5Kg 단위)\n",
              "No    30             95.000000\n",
              "      35             91.666667\n",
              "      40             94.653846\n",
              "      45            100.466667\n",
              "      50            106.559727\n",
              "      55            113.000000\n",
              "      60            121.333333\n",
              "      65            119.769231\n",
              "      70            146.398734\n",
              "      75            130.979592\n",
              "      80            153.895833\n",
              "      85            156.758621\n",
              "      90            149.384615\n",
              "      95            171.545455\n",
              "      100           190.666667\n",
              "      115           295.000000\n",
              "Yes   30            145.000000\n",
              "      35             82.500000\n",
              "      40            104.250000\n",
              "      45             91.935484\n",
              "      50             98.662162\n",
              "      55            103.642623\n",
              "      60            114.494253\n",
              "      65            130.475138\n",
              "      70            148.815534\n",
              "      75            149.539370\n",
              "      80            161.445946\n",
              "      85            171.312500\n",
              "      90            183.244898\n",
              "      95            186.200000\n",
              "      100           171.909091\n",
              "      105           180.714286\n",
              "      110           166.000000\n",
              "      115           156.666667\n",
              "      120           249.500000\n",
              "Name: 트리글리세라이드, dtype: float64"
            ]
          },
          "metadata": {},
          "execution_count": 116
        }
      ]
    },
    {
      "cell_type": "markdown",
      "source": [
        "음주를 하는 사람의 트리글리세라이드 수치는 70kg이상의 체중을 넘어가면 정상수치를 넘어가고, 음주를 하지 않는 사람도 70kg이상의 체중을 가지면 트리글리세라이드가 높은 것을 알 수 있다. 이는 음주여부보다는 체중이 트리글리세라이드 수치에 영향을 미친다는 것을 알 수 있다."
      ],
      "metadata": {
        "id": "wlJq_m29L_Et"
      }
    },
    {
      "cell_type": "code",
      "source": [
        "m.plot.bar(rot=45)"
      ],
      "metadata": {
        "colab": {
          "base_uri": "https://localhost:8080/",
          "height": 338
        },
        "id": "6vpPqL0VDB9a",
        "outputId": "40cb820c-4a17-43c4-eea0-b48af1d4a751"
      },
      "execution_count": null,
      "outputs": [
        {
          "output_type": "execute_result",
          "data": {
            "text/plain": [
              "<matplotlib.axes._subplots.AxesSubplot at 0x7fba576eb390>"
            ]
          },
          "metadata": {},
          "execution_count": 117
        },
        {
          "output_type": "display_data",
          "data": {
            "text/plain": [
              "<Figure size 432x288 with 1 Axes>"
            ],
            "image/png": "[encoded data removed]"
          },
          "metadata": {}
        }
      ]
    },
    {
      "cell_type": "code",
      "source": [
        "new['트리글리세라이드'].plot.hist()"
      ],
      "metadata": {
        "colab": {
          "base_uri": "https://localhost:8080/",
          "height": 288
        },
        "id": "rIBqzMTfEF_R",
        "outputId": "f9b3df10-6822-45ce-9285-4fdef19ede89"
      },
      "execution_count": null,
      "outputs": [
        {
          "output_type": "execute_result",
          "data": {
            "text/plain": [
              "<matplotlib.axes._subplots.AxesSubplot at 0x7fba57575790>"
            ]
          },
          "metadata": {},
          "execution_count": 120
        },
        {
          "output_type": "display_data",
          "data": {
            "text/plain": [
              "<Figure size 432x288 with 1 Axes>"
            ],
            "image/png": "[encoded data removed]"
          },
          "metadata": {}
        }
      ]
    },
    {
      "cell_type": "markdown",
      "source": [
        "-> 표본이 가진 가장 높은 트리글리세라이드 수치는 400임을 알 수 있음, 정상 수치의 비율이 높으나, 정상수치를 벗어나는 비율도 존재한다."
      ],
      "metadata": {
        "id": "_TchFUuBLrsa"
      }
    },
    {
      "cell_type": "markdown",
      "source": [
        "# 연령별 ldl콜레스테롤 수치\n",
        "입자가 매우 큰 콜레스테롤로 양이 과도하게 증가할 경우,혈관벽에 쌓여서 동맥경화나 각종 질병을 야기 하는 성분, 170mg/dL 이상일 경우 일반적으로 고LDL혈증"
      ],
      "metadata": {
        "id": "8lmcxUiWCwwj"
      }
    },
    {
      "cell_type": "code",
      "source": [
        "sns.barplot(data=new, x=\"연령대코드(5세단위)\", y=\"LDL콜레스테롤\")"
      ],
      "metadata": {
        "colab": {
          "base_uri": "https://localhost:8080/",
          "height": 304
        },
        "id": "Oe15EcFXCNp5",
        "outputId": "85c67f0d-322a-4fd8-d366-b3cb30e12a2e"
      },
      "execution_count": null,
      "outputs": [
        {
          "output_type": "execute_result",
          "data": {
            "text/plain": [
              "<matplotlib.axes._subplots.AxesSubplot at 0x7fba5793afd0>"
            ]
          },
          "metadata": {},
          "execution_count": 113
        },
        {
          "output_type": "display_data",
          "data": {
            "text/plain": [
              "<Figure size 432x288 with 1 Axes>"
            ],
            "image/png": "[encoded data removed]"
          },
          "metadata": {}
        }
      ]
    },
    {
      "cell_type": "markdown",
      "source": [
        "음주여부에 따른 체중별 LDL콜레스테롤 수치"
      ],
      "metadata": {
        "id": "33isU9FFC0iE"
      }
    },
    {
      "cell_type": "code",
      "source": [
        "sns.barplot(data=new, x=\"체중(5Kg 단위)\", y=\"LDL콜레스테롤\", hue=\"음주여부\")"
      ],
      "metadata": {
        "colab": {
          "base_uri": "https://localhost:8080/",
          "height": 304
        },
        "id": "dXbUV-YOChED",
        "outputId": "976da2a5-005e-4c23-b4fe-e16b8a6e6483"
      },
      "execution_count": null,
      "outputs": [
        {
          "output_type": "execute_result",
          "data": {
            "text/plain": [
              "<matplotlib.axes._subplots.AxesSubplot at 0x7fba578cbb50>"
            ]
          },
          "metadata": {},
          "execution_count": 114
        },
        {
          "output_type": "display_data",
          "data": {
            "text/plain": [
              "<Figure size 432x288 with 1 Axes>"
            ],
            "image/png": "[encoded data removed]"
          },
          "metadata": {}
        }
      ]
    },
    {
      "cell_type": "code",
      "source": [
        "m=new.groupby([\"음주여부\",\"체중(5Kg 단위)\"])[\"LDL콜레스테롤\"].mean()\n",
        "m"
      ],
      "metadata": {
        "colab": {
          "base_uri": "https://localhost:8080/"
        },
        "id": "OBzT8kjdDo8v",
        "outputId": "3c6e369b-eaa6-4c92-dd7a-d21898895715"
      },
      "execution_count": null,
      "outputs": [
        {
          "output_type": "execute_result",
          "data": {
            "text/plain": [
              "음주여부  체중(5Kg 단위)\n",
              "No    30            153.500000\n",
              "      35            107.333333\n",
              "      40            113.711538\n",
              "      45            115.486667\n",
              "      50            116.815700\n",
              "      55            116.409639\n",
              "      60            118.060897\n",
              "      65            108.341346\n",
              "      70            115.620253\n",
              "      75            113.010204\n",
              "      80            118.104167\n",
              "      85            102.620690\n",
              "      90            116.230769\n",
              "      95            109.090909\n",
              "      100           123.000000\n",
              "      115           165.000000\n",
              "Yes   30            169.000000\n",
              "      35            122.750000\n",
              "      40            111.150000\n",
              "      45            113.978495\n",
              "      50            117.617117\n",
              "      55            115.527869\n",
              "      60            119.034483\n",
              "      65            117.234807\n",
              "      70            114.330097\n",
              "      75            117.826772\n",
              "      80            121.000000\n",
              "      85            117.635417\n",
              "      90            120.591837\n",
              "      95            117.840000\n",
              "      100           109.454545\n",
              "      105           116.000000\n",
              "      110            84.000000\n",
              "      115            91.666667\n",
              "      120           102.500000\n",
              "Name: LDL콜레스테롤, dtype: float64"
            ]
          },
          "metadata": {},
          "execution_count": 118
        }
      ]
    },
    {
      "cell_type": "markdown",
      "source": [
        "-> 평균으로 보았을 때, 전체 연령 중 ldl클레스테롤이 170이상을 넘지는 않음"
      ],
      "metadata": {
        "id": "tmUXxOXsNqQo"
      }
    },
    {
      "cell_type": "code",
      "source": [
        "new['LDL콜레스테롤'].plot.hist()"
      ],
      "metadata": {
        "colab": {
          "base_uri": "https://localhost:8080/",
          "height": 288
        },
        "id": "dyaKAJZ3DyEi",
        "outputId": "b3137f83-771d-4ec4-88e7-50c393b69e6d"
      },
      "execution_count": null,
      "outputs": [
        {
          "output_type": "execute_result",
          "data": {
            "text/plain": [
              "<matplotlib.axes._subplots.AxesSubplot at 0x7fba576039d0>"
            ]
          },
          "metadata": {},
          "execution_count": 119
        },
        {
          "output_type": "display_data",
          "data": {
            "text/plain": [
              "<Figure size 432x288 with 1 Axes>"
            ],
            "image/png": "[encoded data removed]"
          },
          "metadata": {}
        }
      ]
    },
    {
      "cell_type": "markdown",
      "source": [
        "-> 전체적인 분포를 보았을 때 ldl콜레스테롤이 170이상을 넘는 사람들이 있다는 것을 확인할 수 있음"
      ],
      "metadata": {
        "id": "xnd7fYSuNzYN"
      }
    },
    {
      "cell_type": "markdown",
      "source": [
        "#트리글리세라이드가 135이상, 총콜레스테롤이 250이상, LDL콜레스테롤이 170이상인 사람 데이터\n",
        "이 경우 일반적으로 고지혈증일 경우가 큼=> 고지혈증인 사람이라 가정"
      ],
      "metadata": {
        "id": "H8aMS8oKHhCd"
      }
    },
    {
      "cell_type": "code",
      "source": [
        "t1=new.loc[(new['트리글리세라이드']>=135)&(new['총콜레스테롤']>=250)&(new['LDL콜레스테롤']>=170)]\n",
        "t1"
      ],
      "metadata": {
        "colab": {
          "base_uri": "https://localhost:8080/",
          "height": 424
        },
        "id": "wdleZs6pJjLX",
        "outputId": "16400161-4337-42c2-f36b-0bedf04bf4df"
      },
      "execution_count": 10,
      "outputs": [
        {
          "output_type": "execute_result",
          "data": {
            "text/plain": [
              "      가입자일련번호 성별코드  연령대코드(5세단위)  체중(5Kg 단위)    흡연상태 음주여부  식전혈당(공복혈당)  총콜레스테롤  \\\n",
              "17         18    F           14          60      No   No       107.0   373.0   \n",
              "59         60    F           12          55      No  Yes       107.0   265.0   \n",
              "83         84    M           10          70      No  Yes        89.0   254.0   \n",
              "84         85    M           11          75     Yes  Yes        93.0   256.0   \n",
              "165       166    M           11          75     Yes  Yes       117.0   258.0   \n",
              "...       ...  ...          ...         ...     ...  ...         ...     ...   \n",
              "9632     9633    F            9          70      No  Yes       104.0   289.0   \n",
              "9646     9647    M           11          70      No  Yes       141.0   255.0   \n",
              "9655     9656    F           13          60      No   No       106.0   265.0   \n",
              "9801     9802    M            9          75  NotNow  Yes        91.0   250.0   \n",
              "9910     9911    F           12          65      No   No       104.0   306.0   \n",
              "\n",
              "      트리글리세라이드  LDL콜레스테롤  (혈청지오티)AST  (혈청지오티)ALT  감마지티피  \n",
              "17       241.0     242.0        27.0        21.0   38.0  \n",
              "59       211.0     173.0        24.0        37.0   40.0  \n",
              "83       166.0     171.0        21.0        22.0   35.0  \n",
              "84       148.0     180.0        20.0        22.0   23.0  \n",
              "165      180.0     183.0        19.0        19.0   24.0  \n",
              "...        ...       ...         ...         ...    ...  \n",
              "9632     145.0     189.0        20.0        17.0   29.0  \n",
              "9646     152.0     171.0        31.0        26.0   45.0  \n",
              "9655     147.0     177.0        45.0        92.0  166.0  \n",
              "9801     180.0     170.0        48.0        81.0  101.0  \n",
              "9910     185.0     200.0        24.0        20.0   18.0  \n",
              "\n",
              "[144 rows x 13 columns]"
            ],
            "text/html": [
              "\n",
              "  <div id=\"df-1bd15944-b389-4974-9987-0246090611f7\">\n",
              "    <div class=\"colab-df-container\">\n",
              "      <div>\n",
              "<style scoped>\n",
              "    .dataframe tbody tr th:only-of-type {\n",
              "        vertical-align: middle;\n",
              "    }\n",
              "\n",
              "    .dataframe tbody tr th {\n",
              "        vertical-align: top;\n",
              "    }\n",
              "\n",
              "    .dataframe thead th {\n",
              "        text-align: right;\n",
              "    }\n",
              "</style>\n",
              "<table border=\"1\" class=\"dataframe\">\n",
              "  <thead>\n",
              "    <tr style=\"text-align: right;\">\n",
              "      <th></th>\n",
              "      <th>가입자일련번호</th>\n",
              "      <th>성별코드</th>\n",
              "      <th>연령대코드(5세단위)</th>\n",
              "      <th>체중(5Kg 단위)</th>\n",
              "      <th>흡연상태</th>\n",
              "      <th>음주여부</th>\n",
              "      <th>식전혈당(공복혈당)</th>\n",
              "      <th>총콜레스테롤</th>\n",
              "      <th>트리글리세라이드</th>\n",
              "      <th>LDL콜레스테롤</th>\n",
              "      <th>(혈청지오티)AST</th>\n",
              "      <th>(혈청지오티)ALT</th>\n",
              "      <th>감마지티피</th>\n",
              "    </tr>\n",
              "  </thead>\n",
              "  <tbody>\n",
              "    <tr>\n",
              "      <th>17</th>\n",
              "      <td>18</td>\n",
              "      <td>F</td>\n",
              "      <td>14</td>\n",
              "      <td>60</td>\n",
              "      <td>No</td>\n",
              "      <td>No</td>\n",
              "      <td>107.0</td>\n",
              "      <td>373.0</td>\n",
              "      <td>241.0</td>\n",
              "      <td>242.0</td>\n",
              "      <td>27.0</td>\n",
              "      <td>21.0</td>\n",
              "      <td>38.0</td>\n",
              "    </tr>\n",
              "    <tr>\n",
              "      <th>59</th>\n",
              "      <td>60</td>\n",
              "      <td>F</td>\n",
              "      <td>12</td>\n",
              "      <td>55</td>\n",
              "      <td>No</td>\n",
              "      <td>Yes</td>\n",
              "      <td>107.0</td>\n",
              "      <td>265.0</td>\n",
              "      <td>211.0</td>\n",
              "      <td>173.0</td>\n",
              "      <td>24.0</td>\n",
              "      <td>37.0</td>\n",
              "      <td>40.0</td>\n",
              "    </tr>\n",
              "    <tr>\n",
              "      <th>83</th>\n",
              "      <td>84</td>\n",
              "      <td>M</td>\n",
              "      <td>10</td>\n",
              "      <td>70</td>\n",
              "      <td>No</td>\n",
              "      <td>Yes</td>\n",
              "      <td>89.0</td>\n",
              "      <td>254.0</td>\n",
              "      <td>166.0</td>\n",
              "      <td>171.0</td>\n",
              "      <td>21.0</td>\n",
              "      <td>22.0</td>\n",
              "      <td>35.0</td>\n",
              "    </tr>\n",
              "    <tr>\n",
              "      <th>84</th>\n",
              "      <td>85</td>\n",
              "      <td>M</td>\n",
              "      <td>11</td>\n",
              "      <td>75</td>\n",
              "      <td>Yes</td>\n",
              "      <td>Yes</td>\n",
              "      <td>93.0</td>\n",
              "      <td>256.0</td>\n",
              "      <td>148.0</td>\n",
              "      <td>180.0</td>\n",
              "      <td>20.0</td>\n",
              "      <td>22.0</td>\n",
              "      <td>23.0</td>\n",
              "    </tr>\n",
              "    <tr>\n",
              "      <th>165</th>\n",
              "      <td>166</td>\n",
              "      <td>M</td>\n",
              "      <td>11</td>\n",
              "      <td>75</td>\n",
              "      <td>Yes</td>\n",
              "      <td>Yes</td>\n",
              "      <td>117.0</td>\n",
              "      <td>258.0</td>\n",
              "      <td>180.0</td>\n",
              "      <td>183.0</td>\n",
              "      <td>19.0</td>\n",
              "      <td>19.0</td>\n",
              "      <td>24.0</td>\n",
              "    </tr>\n",
              "    <tr>\n",
              "      <th>...</th>\n",
              "      <td>...</td>\n",
              "      <td>...</td>\n",
              "      <td>...</td>\n",
              "      <td>...</td>\n",
              "      <td>...</td>\n",
              "      <td>...</td>\n",
              "      <td>...</td>\n",
              "      <td>...</td>\n",
              "      <td>...</td>\n",
              "      <td>...</td>\n",
              "      <td>...</td>\n",
              "      <td>...</td>\n",
              "      <td>...</td>\n",
              "    </tr>\n",
              "    <tr>\n",
              "      <th>9632</th>\n",
              "      <td>9633</td>\n",
              "      <td>F</td>\n",
              "      <td>9</td>\n",
              "      <td>70</td>\n",
              "      <td>No</td>\n",
              "      <td>Yes</td>\n",
              "      <td>104.0</td>\n",
              "      <td>289.0</td>\n",
              "      <td>145.0</td>\n",
              "      <td>189.0</td>\n",
              "      <td>20.0</td>\n",
              "      <td>17.0</td>\n",
              "      <td>29.0</td>\n",
              "    </tr>\n",
              "    <tr>\n",
              "      <th>9646</th>\n",
              "      <td>9647</td>\n",
              "      <td>M</td>\n",
              "      <td>11</td>\n",
              "      <td>70</td>\n",
              "      <td>No</td>\n",
              "      <td>Yes</td>\n",
              "      <td>141.0</td>\n",
              "      <td>255.0</td>\n",
              "      <td>152.0</td>\n",
              "      <td>171.0</td>\n",
              "      <td>31.0</td>\n",
              "      <td>26.0</td>\n",
              "      <td>45.0</td>\n",
              "    </tr>\n",
              "    <tr>\n",
              "      <th>9655</th>\n",
              "      <td>9656</td>\n",
              "      <td>F</td>\n",
              "      <td>13</td>\n",
              "      <td>60</td>\n",
              "      <td>No</td>\n",
              "      <td>No</td>\n",
              "      <td>106.0</td>\n",
              "      <td>265.0</td>\n",
              "      <td>147.0</td>\n",
              "      <td>177.0</td>\n",
              "      <td>45.0</td>\n",
              "      <td>92.0</td>\n",
              "      <td>166.0</td>\n",
              "    </tr>\n",
              "    <tr>\n",
              "      <th>9801</th>\n",
              "      <td>9802</td>\n",
              "      <td>M</td>\n",
              "      <td>9</td>\n",
              "      <td>75</td>\n",
              "      <td>NotNow</td>\n",
              "      <td>Yes</td>\n",
              "      <td>91.0</td>\n",
              "      <td>250.0</td>\n",
              "      <td>180.0</td>\n",
              "      <td>170.0</td>\n",
              "      <td>48.0</td>\n",
              "      <td>81.0</td>\n",
              "      <td>101.0</td>\n",
              "    </tr>\n",
              "    <tr>\n",
              "      <th>9910</th>\n",
              "      <td>9911</td>\n",
              "      <td>F</td>\n",
              "      <td>12</td>\n",
              "      <td>65</td>\n",
              "      <td>No</td>\n",
              "      <td>No</td>\n",
              "      <td>104.0</td>\n",
              "      <td>306.0</td>\n",
              "      <td>185.0</td>\n",
              "      <td>200.0</td>\n",
              "      <td>24.0</td>\n",
              "      <td>20.0</td>\n",
              "      <td>18.0</td>\n",
              "    </tr>\n",
              "  </tbody>\n",
              "</table>\n",
              "<p>144 rows × 13 columns</p>\n",
              "</div>\n",
              "      <button class=\"colab-df-convert\" onclick=\"convertToInteractive('df-1bd15944-b389-4974-9987-0246090611f7')\"\n",
              "              title=\"Convert this dataframe to an interactive table.\"\n",
              "              style=\"display:none;\">\n",
              "        \n",
              "  <svg xmlns=\"http://www.w3.org/2000/svg\" height=\"24px\"viewBox=\"0 0 24 24\"\n",
              "       width=\"24px\">\n",
              "    <path d=\"M0 0h24v24H0V0z\" fill=\"none\"/>\n",
              "    <path d=\"M18.56 5.44l.94 2.06.94-2.06 2.06-.94-2.06-.94-.94-2.06-.94 2.06-2.06.94zm-11 1L8.5 8.5l.94-2.06 2.06-.94-2.06-.94L8.5 2.5l-.94 2.06-2.06.94zm10 10l.94 2.06.94-2.06 2.06-.94-2.06-.94-.94-2.06-.94 2.06-2.06.94z\"/><path d=\"M17.41 7.96l-1.37-1.37c-.4-.4-.92-.59-1.43-.59-.52 0-1.04.2-1.43.59L10.3 9.45l-7.72 7.72c-.78.78-.78 2.05 0 2.83L4 21.41c.39.39.9.59 1.41.59.51 0 1.02-.2 1.41-.59l7.78-7.78 2.81-2.81c.8-.78.8-2.07 0-2.86zM5.41 20L4 18.59l7.72-7.72 1.47 1.35L5.41 20z\"/>\n",
              "  </svg>\n",
              "      </button>\n",
              "      \n",
              "  <style>\n",
              "    .colab-df-container {\n",
              "      display:flex;\n",
              "      flex-wrap:wrap;\n",
              "      gap: 12px;\n",
              "    }\n",
              "\n",
              "    .colab-df-convert {\n",
              "      background-color: #E8F0FE;\n",
              "      border: none;\n",
              "      border-radius: 50%;\n",
              "      cursor: pointer;\n",
              "      display: none;\n",
              "      fill: #1967D2;\n",
              "      height: 32px;\n",
              "      padding: 0 0 0 0;\n",
              "      width: 32px;\n",
              "    }\n",
              "\n",
              "    .colab-df-convert:hover {\n",
              "      background-color: #E2EBFA;\n",
              "      box-shadow: 0px 1px 2px rgba(60, 64, 67, 0.3), 0px 1px 3px 1px rgba(60, 64, 67, 0.15);\n",
              "      fill: #174EA6;\n",
              "    }\n",
              "\n",
              "    [theme=dark] .colab-df-convert {\n",
              "      background-color: #3B4455;\n",
              "      fill: #D2E3FC;\n",
              "    }\n",
              "\n",
              "    [theme=dark] .colab-df-convert:hover {\n",
              "      background-color: #434B5C;\n",
              "      box-shadow: 0px 1px 3px 1px rgba(0, 0, 0, 0.15);\n",
              "      filter: drop-shadow(0px 1px 2px rgba(0, 0, 0, 0.3));\n",
              "      fill: #FFFFFF;\n",
              "    }\n",
              "  </style>\n",
              "\n",
              "      <script>\n",
              "        const buttonEl =\n",
              "          document.querySelector('#df-1bd15944-b389-4974-9987-0246090611f7 button.colab-df-convert');\n",
              "        buttonEl.style.display =\n",
              "          google.colab.kernel.accessAllowed ? 'block' : 'none';\n",
              "\n",
              "        async function convertToInteractive(key) {\n",
              "          const element = document.querySelector('#df-1bd15944-b389-4974-9987-0246090611f7');\n",
              "          const dataTable =\n",
              "            await google.colab.kernel.invokeFunction('convertToInteractive',\n",
              "                                                     [key], {});\n",
              "          if (!dataTable) return;\n",
              "\n",
              "          const docLinkHtml = 'Like what you see? Visit the ' +\n",
              "            '<a target=\"_blank\" href=https://colab.research.google.com/notebooks/data_table.ipynb>data table notebook</a>'\n",
              "            + ' to learn more about interactive tables.';\n",
              "          element.innerHTML = '';\n",
              "          dataTable['output_type'] = 'display_data';\n",
              "          await google.colab.output.renderOutput(dataTable, element);\n",
              "          const docLink = document.createElement('div');\n",
              "          docLink.innerHTML = docLinkHtml;\n",
              "          element.appendChild(docLink);\n",
              "        }\n",
              "      </script>\n",
              "    </div>\n",
              "  </div>\n",
              "  "
            ]
          },
          "metadata": {},
          "execution_count": 10
        }
      ]
    },
    {
      "cell_type": "markdown",
      "source": [
        "#고지혈증인 사람의 체중, 흡연상태, 음주여부, 식전혈당"
      ],
      "metadata": {
        "id": "zV0fyx-4NIRh"
      }
    },
    {
      "cell_type": "code",
      "source": [
        "t1.groupby([\"음주여부\"])[\"가입자일련번호\"].count()"
      ],
      "metadata": {
        "colab": {
          "base_uri": "https://localhost:8080/"
        },
        "id": "xn9nbV16NFD-",
        "outputId": "7c891a23-641e-4149-a430-4f6ca2d8d2e4"
      },
      "execution_count": null,
      "outputs": [
        {
          "output_type": "execute_result",
          "data": {
            "text/plain": [
              "음주여부\n",
              "No     68\n",
              "Yes    76\n",
              "Name: 가입자일련번호, dtype: int64"
            ]
          },
          "metadata": {},
          "execution_count": 110
        }
      ]
    },
    {
      "cell_type": "code",
      "source": [
        "x = [76, 68]\n",
        "y = ['Yes', 'No']\n",
        "plt.figure(figsize=(5,5))\n",
        "plt.pie(x, labels= y, autopct='%.1f%%')  #autopct: format for values\n",
        "plt.title('음주여부')\n",
        "\n",
        "plt.show()\n"
      ],
      "metadata": {
        "colab": {
          "base_uri": "https://localhost:8080/",
          "height": 318
        },
        "id": "7quE8XFGPObw",
        "outputId": "786f815c-0ccc-4c4e-a192-95e5a8b38edf"
      },
      "execution_count": 5,
      "outputs": [
        {
          "output_type": "display_data",
          "data": {
            "text/plain": [
              "<Figure size 360x360 with 1 Axes>"
            ],
            "image/png": "[encoded data removed]"
          },
          "metadata": {}
        }
      ]
    },
    {
      "cell_type": "markdown",
      "source": [
        "-> 고지혈증을 가진 사람 중 76%는 음주를 하고, 68%는 음주를 하지 않는다는 것을 알 수 있다. 이를 통해 작은 차이지만 음주를 하는 사람이 고자혈증에 걸릴 확률이 높다고 예측해 볼 수 있다."
      ],
      "metadata": {
        "id": "phON3LxoTT6k"
      }
    },
    {
      "cell_type": "code",
      "source": [
        "t1.groupby([\"흡연상태\"])[\"가입자일련번호\"].count()"
      ],
      "metadata": {
        "colab": {
          "base_uri": "https://localhost:8080/"
        },
        "id": "vAAeoqL_H0uR",
        "outputId": "80e11892-7e4a-4fe0-96e0-abdc893954db"
      },
      "execution_count": null,
      "outputs": [
        {
          "output_type": "execute_result",
          "data": {
            "text/plain": [
              "흡연상태\n",
              "No        92\n",
              "NotNow    25\n",
              "Yes       27\n",
              "Name: 가입자일련번호, dtype: int64"
            ]
          },
          "metadata": {},
          "execution_count": 111
        }
      ]
    },
    {
      "cell_type": "code",
      "source": [
        "x = [92, 25, 27]\n",
        "y = ['No', 'NotNow', 'Yes']\n",
        "plt.figure(figsize=(5,5))\n",
        "plt.pie(x, labels= y, autopct='%.1f%%')  #autopct: format for values\n",
        "plt.title('흡연여부')\n",
        "\n",
        "plt.show()"
      ],
      "metadata": {
        "colab": {
          "base_uri": "https://localhost:8080/",
          "height": 318
        },
        "id": "zRIC98UmPs6j",
        "outputId": "c911c8cf-76ae-449c-e29c-667555b3cf78"
      },
      "execution_count": 6,
      "outputs": [
        {
          "output_type": "display_data",
          "data": {
            "text/plain": [
              "<Figure size 360x360 with 1 Axes>"
            ],
            "image/png": "[encoded data removed]"
          },
          "metadata": {}
        }
      ]
    },
    {
      "cell_type": "markdown",
      "source": [
        "-> 고지혈증인 사람들 중 흡연을 하는 사람은 18.6%로 전체 중 적은 비율을 차지하고 있다. 이를 통해 흡연은 고지혈증에 큰 영향을 미친다고 보긴 어려워보인다."
      ],
      "metadata": {
        "id": "N0WuaGqUTwPS"
      }
    },
    {
      "cell_type": "code",
      "source": [
        "t1.groupby([\"체중(5Kg 단위)\"])[\"가입자일련번호\"].count()"
      ],
      "metadata": {
        "colab": {
          "base_uri": "https://localhost:8080/"
        },
        "id": "VlMb4CmfTBiv",
        "outputId": "19f3ad65-e920-4ad5-b074-694733f94fcd"
      },
      "execution_count": 11,
      "outputs": [
        {
          "output_type": "execute_result",
          "data": {
            "text/plain": [
              "체중(5Kg 단위)\n",
              "40      1\n",
              "45      4\n",
              "50     10\n",
              "55     21\n",
              "60     27\n",
              "65     18\n",
              "70     24\n",
              "75     19\n",
              "80      8\n",
              "85      3\n",
              "90      6\n",
              "95      2\n",
              "100     1\n",
              "Name: 가입자일련번호, dtype: int64"
            ]
          },
          "metadata": {},
          "execution_count": 11
        }
      ]
    },
    {
      "cell_type": "code",
      "source": [
        "A=t1.groupby([\"체중(5Kg 단위)\"])[\"가입자일련번호\"].count()\n",
        "A.plot.bar(rot=45)"
      ],
      "metadata": {
        "colab": {
          "base_uri": "https://localhost:8080/",
          "height": 314
        },
        "id": "tY6w0_lYVpJq",
        "outputId": "969965f1-c7de-4250-ba44-ef216cbdbe9a"
      },
      "execution_count": 13,
      "outputs": [
        {
          "output_type": "execute_result",
          "data": {
            "text/plain": [
              "<matplotlib.axes._subplots.AxesSubplot at 0x7f2686431110>"
            ]
          },
          "metadata": {},
          "execution_count": 13
        },
        {
          "output_type": "display_data",
          "data": {
            "text/plain": [
              "<Figure size 432x288 with 1 Axes>"
            ],
            "image/png": "[encoded data removed]"
          },
          "metadata": {
            "needs_background": "light"
          }
        }
      ]
    },
    {
      "cell_type": "markdown",
      "source": [
        "-> 고지혈증인 사람의 체중 비율\n"
      ],
      "metadata": {
        "id": "so4H1pEnV6V6"
      }
    },
    {
      "cell_type": "code",
      "source": [
        "t1.groupby([\"식전혈당(공복혈당)\"])[\"가입자일련번호\"].count()"
      ],
      "metadata": {
        "colab": {
          "base_uri": "https://localhost:8080/"
        },
        "id": "U33inH7BQdWw",
        "outputId": "db0c62f8-9a8a-4dc3-a827-55e945ad90ad"
      },
      "execution_count": null,
      "outputs": [
        {
          "output_type": "execute_result",
          "data": {
            "text/plain": [
              "식전혈당(공복혈당)\n",
              "81.0     2\n",
              "82.0     1\n",
              "85.0     2\n",
              "86.0     4\n",
              "87.0     2\n",
              "88.0     2\n",
              "89.0     1\n",
              "90.0     4\n",
              "91.0     1\n",
              "92.0     6\n",
              "93.0     3\n",
              "94.0     3\n",
              "95.0     6\n",
              "96.0     3\n",
              "97.0     6\n",
              "98.0     5\n",
              "99.0     5\n",
              "100.0    2\n",
              "101.0    5\n",
              "102.0    3\n",
              "103.0    6\n",
              "104.0    8\n",
              "105.0    1\n",
              "106.0    3\n",
              "107.0    4\n",
              "108.0    3\n",
              "109.0    4\n",
              "110.0    3\n",
              "111.0    1\n",
              "112.0    1\n",
              "113.0    3\n",
              "114.0    5\n",
              "115.0    1\n",
              "116.0    1\n",
              "117.0    5\n",
              "119.0    3\n",
              "120.0    3\n",
              "121.0    1\n",
              "122.0    1\n",
              "124.0    2\n",
              "125.0    1\n",
              "126.0    1\n",
              "128.0    1\n",
              "130.0    1\n",
              "131.0    1\n",
              "132.0    2\n",
              "137.0    1\n",
              "141.0    1\n",
              "143.0    1\n",
              "145.0    1\n",
              "154.0    1\n",
              "156.0    1\n",
              "159.0    1\n",
              "176.0    1\n",
              "183.0    1\n",
              "185.0    1\n",
              "217.0    1\n",
              "273.0    1\n",
              "Name: 가입자일련번호, dtype: int64"
            ]
          },
          "metadata": {},
          "execution_count": 113
        }
      ]
    },
    {
      "cell_type": "code",
      "source": [
        "t1.describe()"
      ],
      "metadata": {
        "colab": {
          "base_uri": "https://localhost:8080/",
          "height": 361
        },
        "id": "GRAQ4NfaU4Sn",
        "outputId": "acfb08f8-75cf-4fd4-ac88-793b36cd8799"
      },
      "execution_count": null,
      "outputs": [
        {
          "output_type": "execute_result",
          "data": {
            "text/plain": [
              "           가입자일련번호  연령대코드(5세단위)  체중(5Kg 단위)  식전혈당(공복혈당)      총콜레스테롤  \\\n",
              "count   144.000000   144.000000  144.000000  144.000000  144.000000   \n",
              "mean   4893.055556    11.777778   65.937500  109.145833  284.729167   \n",
              "std    2959.045000     2.090419   11.647034   24.767441   27.058140   \n",
              "min      18.000000     9.000000   40.000000   81.000000  250.000000   \n",
              "25%    2725.500000    10.000000   58.750000   95.000000  265.000000   \n",
              "50%    5058.000000    12.000000   65.000000  103.500000  278.000000   \n",
              "75%    7171.250000    13.000000   75.000000  114.250000  293.250000   \n",
              "max    9911.000000    18.000000  100.000000  273.000000  387.000000   \n",
              "\n",
              "         트리글리세라이드    LDL콜레스테롤  (혈청지오티)AST  (혈청지오티)ALT       감마지티피  \n",
              "count  144.000000  144.000000  144.000000  144.000000  144.000000  \n",
              "mean   189.381944  192.625000   30.215278   32.798611   47.527778  \n",
              "std     51.375213   21.678475   16.138025   23.039820   40.118347  \n",
              "min    135.000000  170.000000   11.000000    8.000000    5.000000  \n",
              "25%    152.000000  177.000000   21.750000   19.000000   24.000000  \n",
              "50%    172.000000  187.000000   25.500000   25.000000   33.500000  \n",
              "75%    211.500000  200.000000   34.000000   37.000000   55.000000  \n",
              "max    390.000000  297.000000  111.000000  145.000000  281.000000  "
            ],
            "text/html": [
              "\n",
              "  <div id=\"df-2d48463c-0f53-4b5a-88c0-08012f20d4a3\">\n",
              "    <div class=\"colab-df-container\">\n",
              "      <div>\n",
              "<style scoped>\n",
              "    .dataframe tbody tr th:only-of-type {\n",
              "        vertical-align: middle;\n",
              "    }\n",
              "\n",
              "    .dataframe tbody tr th {\n",
              "        vertical-align: top;\n",
              "    }\n",
              "\n",
              "    .dataframe thead th {\n",
              "        text-align: right;\n",
              "    }\n",
              "</style>\n",
              "<table border=\"1\" class=\"dataframe\">\n",
              "  <thead>\n",
              "    <tr style=\"text-align: right;\">\n",
              "      <th></th>\n",
              "      <th>가입자일련번호</th>\n",
              "      <th>연령대코드(5세단위)</th>\n",
              "      <th>체중(5Kg 단위)</th>\n",
              "      <th>식전혈당(공복혈당)</th>\n",
              "      <th>총콜레스테롤</th>\n",
              "      <th>트리글리세라이드</th>\n",
              "      <th>LDL콜레스테롤</th>\n",
              "      <th>(혈청지오티)AST</th>\n",
              "      <th>(혈청지오티)ALT</th>\n",
              "      <th>감마지티피</th>\n",
              "    </tr>\n",
              "  </thead>\n",
              "  <tbody>\n",
              "    <tr>\n",
              "      <th>count</th>\n",
              "      <td>144.000000</td>\n",
              "      <td>144.000000</td>\n",
              "      <td>144.000000</td>\n",
              "      <td>144.000000</td>\n",
              "      <td>144.000000</td>\n",
              "      <td>144.000000</td>\n",
              "      <td>144.000000</td>\n",
              "      <td>144.000000</td>\n",
              "      <td>144.000000</td>\n",
              "      <td>144.000000</td>\n",
              "    </tr>\n",
              "    <tr>\n",
              "      <th>mean</th>\n",
              "      <td>4893.055556</td>\n",
              "      <td>11.777778</td>\n",
              "      <td>65.937500</td>\n",
              "      <td>109.145833</td>\n",
              "      <td>284.729167</td>\n",
              "      <td>189.381944</td>\n",
              "      <td>192.625000</td>\n",
              "      <td>30.215278</td>\n",
              "      <td>32.798611</td>\n",
              "      <td>47.527778</td>\n",
              "    </tr>\n",
              "    <tr>\n",
              "      <th>std</th>\n",
              "      <td>2959.045000</td>\n",
              "      <td>2.090419</td>\n",
              "      <td>11.647034</td>\n",
              "      <td>24.767441</td>\n",
              "      <td>27.058140</td>\n",
              "      <td>51.375213</td>\n",
              "      <td>21.678475</td>\n",
              "      <td>16.138025</td>\n",
              "      <td>23.039820</td>\n",
              "      <td>40.118347</td>\n",
              "    </tr>\n",
              "    <tr>\n",
              "      <th>min</th>\n",
              "      <td>18.000000</td>\n",
              "      <td>9.000000</td>\n",
              "      <td>40.000000</td>\n",
              "      <td>81.000000</td>\n",
              "      <td>250.000000</td>\n",
              "      <td>135.000000</td>\n",
              "      <td>170.000000</td>\n",
              "      <td>11.000000</td>\n",
              "      <td>8.000000</td>\n",
              "      <td>5.000000</td>\n",
              "    </tr>\n",
              "    <tr>\n",
              "      <th>25%</th>\n",
              "      <td>2725.500000</td>\n",
              "      <td>10.000000</td>\n",
              "      <td>58.750000</td>\n",
              "      <td>95.000000</td>\n",
              "      <td>265.000000</td>\n",
              "      <td>152.000000</td>\n",
              "      <td>177.000000</td>\n",
              "      <td>21.750000</td>\n",
              "      <td>19.000000</td>\n",
              "      <td>24.000000</td>\n",
              "    </tr>\n",
              "    <tr>\n",
              "      <th>50%</th>\n",
              "      <td>5058.000000</td>\n",
              "      <td>12.000000</td>\n",
              "      <td>65.000000</td>\n",
              "      <td>103.500000</td>\n",
              "      <td>278.000000</td>\n",
              "      <td>172.000000</td>\n",
              "      <td>187.000000</td>\n",
              "      <td>25.500000</td>\n",
              "      <td>25.000000</td>\n",
              "      <td>33.500000</td>\n",
              "    </tr>\n",
              "    <tr>\n",
              "      <th>75%</th>\n",
              "      <td>7171.250000</td>\n",
              "      <td>13.000000</td>\n",
              "      <td>75.000000</td>\n",
              "      <td>114.250000</td>\n",
              "      <td>293.250000</td>\n",
              "      <td>211.500000</td>\n",
              "      <td>200.000000</td>\n",
              "      <td>34.000000</td>\n",
              "      <td>37.000000</td>\n",
              "      <td>55.000000</td>\n",
              "    </tr>\n",
              "    <tr>\n",
              "      <th>max</th>\n",
              "      <td>9911.000000</td>\n",
              "      <td>18.000000</td>\n",
              "      <td>100.000000</td>\n",
              "      <td>273.000000</td>\n",
              "      <td>387.000000</td>\n",
              "      <td>390.000000</td>\n",
              "      <td>297.000000</td>\n",
              "      <td>111.000000</td>\n",
              "      <td>145.000000</td>\n",
              "      <td>281.000000</td>\n",
              "    </tr>\n",
              "  </tbody>\n",
              "</table>\n",
              "</div>\n",
              "      <button class=\"colab-df-convert\" onclick=\"convertToInteractive('df-2d48463c-0f53-4b5a-88c0-08012f20d4a3')\"\n",
              "              title=\"Convert this dataframe to an interactive table.\"\n",
              "              style=\"display:none;\">\n",
              "        \n",
              "  <svg xmlns=\"http://www.w3.org/2000/svg\" height=\"24px\"viewBox=\"0 0 24 24\"\n",
              "       width=\"24px\">\n",
              "    <path d=\"M0 0h24v24H0V0z\" fill=\"none\"/>\n",
              "    <path d=\"M18.56 5.44l.94 2.06.94-2.06 2.06-.94-2.06-.94-.94-2.06-.94 2.06-2.06.94zm-11 1L8.5 8.5l.94-2.06 2.06-.94-2.06-.94L8.5 2.5l-.94 2.06-2.06.94zm10 10l.94 2.06.94-2.06 2.06-.94-2.06-.94-.94-2.06-.94 2.06-2.06.94z\"/><path d=\"M17.41 7.96l-1.37-1.37c-.4-.4-.92-.59-1.43-.59-.52 0-1.04.2-1.43.59L10.3 9.45l-7.72 7.72c-.78.78-.78 2.05 0 2.83L4 21.41c.39.39.9.59 1.41.59.51 0 1.02-.2 1.41-.59l7.78-7.78 2.81-2.81c.8-.78.8-2.07 0-2.86zM5.41 20L4 18.59l7.72-7.72 1.47 1.35L5.41 20z\"/>\n",
              "  </svg>\n",
              "      </button>\n",
              "      \n",
              "  <style>\n",
              "    .colab-df-container {\n",
              "      display:flex;\n",
              "      flex-wrap:wrap;\n",
              "      gap: 12px;\n",
              "    }\n",
              "\n",
              "    .colab-df-convert {\n",
              "      background-color: #E8F0FE;\n",
              "      border: none;\n",
              "      border-radius: 50%;\n",
              "      cursor: pointer;\n",
              "      display: none;\n",
              "      fill: #1967D2;\n",
              "      height: 32px;\n",
              "      padding: 0 0 0 0;\n",
              "      width: 32px;\n",
              "    }\n",
              "\n",
              "    .colab-df-convert:hover {\n",
              "      background-color: #E2EBFA;\n",
              "      box-shadow: 0px 1px 2px rgba(60, 64, 67, 0.3), 0px 1px 3px 1px rgba(60, 64, 67, 0.15);\n",
              "      fill: #174EA6;\n",
              "    }\n",
              "\n",
              "    [theme=dark] .colab-df-convert {\n",
              "      background-color: #3B4455;\n",
              "      fill: #D2E3FC;\n",
              "    }\n",
              "\n",
              "    [theme=dark] .colab-df-convert:hover {\n",
              "      background-color: #434B5C;\n",
              "      box-shadow: 0px 1px 3px 1px rgba(0, 0, 0, 0.15);\n",
              "      filter: drop-shadow(0px 1px 2px rgba(0, 0, 0, 0.3));\n",
              "      fill: #FFFFFF;\n",
              "    }\n",
              "  </style>\n",
              "\n",
              "      <script>\n",
              "        const buttonEl =\n",
              "          document.querySelector('#df-2d48463c-0f53-4b5a-88c0-08012f20d4a3 button.colab-df-convert');\n",
              "        buttonEl.style.display =\n",
              "          google.colab.kernel.accessAllowed ? 'block' : 'none';\n",
              "\n",
              "        async function convertToInteractive(key) {\n",
              "          const element = document.querySelector('#df-2d48463c-0f53-4b5a-88c0-08012f20d4a3');\n",
              "          const dataTable =\n",
              "            await google.colab.kernel.invokeFunction('convertToInteractive',\n",
              "                                                     [key], {});\n",
              "          if (!dataTable) return;\n",
              "\n",
              "          const docLinkHtml = 'Like what you see? Visit the ' +\n",
              "            '<a target=\"_blank\" href=https://colab.research.google.com/notebooks/data_table.ipynb>data table notebook</a>'\n",
              "            + ' to learn more about interactive tables.';\n",
              "          element.innerHTML = '';\n",
              "          dataTable['output_type'] = 'display_data';\n",
              "          await google.colab.output.renderOutput(dataTable, element);\n",
              "          const docLink = document.createElement('div');\n",
              "          docLink.innerHTML = docLinkHtml;\n",
              "          element.appendChild(docLink);\n",
              "        }\n",
              "      </script>\n",
              "    </div>\n",
              "  </div>\n",
              "  "
            ]
          },
          "metadata": {},
          "execution_count": 117
        }
      ]
    },
    {
      "cell_type": "markdown",
      "source": [
        "체중별 식전혈당(공복혈당)\n",
        "-> 식전혈당은 99이하가 정상수치,100-125는 당뇨 전단계, 126이상은 당뇨관리가 필요하다고 볼 수 있음"
      ],
      "metadata": {
        "id": "egbs4wbOZATm"
      }
    },
    {
      "cell_type": "code",
      "source": [
        "sns.barplot(data=new, x=\"체중(5Kg 단위)\", y=\"식전혈당(공복혈당)\")"
      ],
      "metadata": {
        "colab": {
          "base_uri": "https://localhost:8080/",
          "height": 304
        },
        "id": "FOZYifQsSya_",
        "outputId": "e3c6e5b3-22e8-449a-c2ba-29b276f9401f"
      },
      "execution_count": null,
      "outputs": [
        {
          "output_type": "execute_result",
          "data": {
            "text/plain": [
              "<matplotlib.axes._subplots.AxesSubplot at 0x7fd07e711390>"
            ]
          },
          "metadata": {},
          "execution_count": 100
        },
        {
          "output_type": "display_data",
          "data": {
            "text/plain": [
              "<Figure size 432x288 with 1 Axes>"
            ],
            "image/png": "[encoded data removed]"
          },
          "metadata": {
            "needs_background": "light"
          }
        }
      ]
    },
    {
      "cell_type": "markdown",
      "source": [
        "-> 평균적으로 몸무게 55KG이상인 사람들부터 당뇨 전단계 상태의 식전혈당 수치를 보이고 있으며, 126이상의 수치를 기록한 체중은 보이지 않는다. 고지혈증인 사람의 경우 당뇨의 위험성도 있을 수 있다는 것을 예측해 볼 수 있다."
      ],
      "metadata": {
        "id": "b_8H0gwcZFXY"
      }
    },
    {
      "cell_type": "markdown",
      "source": [
        "-> 연령에 따른 평균적 혈졍지오티 수치를 보았을 때 40이상을 넘지 않는다."
      ],
      "metadata": {
        "id": "UESr58lAbpnW"
      }
    },
    {
      "cell_type": "code",
      "source": [
        "sns.lmplot(data=new, x=\"(혈청지오티)AST\", y=\"(혈청지오티)ALT\", hue=\"음주여부\")"
      ],
      "metadata": {
        "colab": {
          "base_uri": "https://localhost:8080/",
          "height": 387
        },
        "id": "5dKAkKv27O4Y",
        "outputId": "ee71a584-a275-4f1a-bd32-2c7215d83894"
      },
      "execution_count": null,
      "outputs": [
        {
          "output_type": "execute_result",
          "data": {
            "text/plain": [
              "<seaborn.axisgrid.FacetGrid at 0x7fd080bb71d0>"
            ]
          },
          "metadata": {},
          "execution_count": 79
        },
        {
          "output_type": "display_data",
          "data": {
            "text/plain": [
              "<Figure size 417.725x360 with 1 Axes>"
            ],
            "image/png": "[encoded data removed]"
          },
          "metadata": {
            "needs_background": "light"
          }
        }
      ]
    },
    {
      "cell_type": "code",
      "source": [
        "sns.lmplot(data=new, x=\"(혈청지오티)AST\", y=\"(혈청지오티)ALT\", hue=\"음주여부\",  robust=True)"
      ],
      "metadata": {
        "colab": {
          "base_uri": "https://localhost:8080/",
          "height": 387
        },
        "id": "MUwsLH8B7u9T",
        "outputId": "c5beb03f-07b0-4a64-fa15-abb2c6d815f8"
      },
      "execution_count": null,
      "outputs": [
        {
          "output_type": "execute_result",
          "data": {
            "text/plain": [
              "<seaborn.axisgrid.FacetGrid at 0x7fd080bbe2d0>"
            ]
          },
          "metadata": {},
          "execution_count": 80
        },
        {
          "output_type": "display_data",
          "data": {
            "text/plain": [
              "<Figure size 417.725x360 with 1 Axes>"
            ],
            "image/png": "[encoded data removed]"
          },
          "metadata": {
            "needs_background": "light"
          }
        }
      ]
    },
    {
      "cell_type": "markdown",
      "source": [
        "성별, 음주여부, 감마지티피"
      ],
      "metadata": {
        "id": "S3RwOMWTyOR7"
      }
    },
    {
      "cell_type": "code",
      "source": [
        "sns.barplot(data=new, x=\"성별코드\", y=\"감마지티피\", hue=\"음주여부\")"
      ],
      "metadata": {
        "colab": {
          "base_uri": "https://localhost:8080/",
          "height": 305
        },
        "id": "8HmV63CVzN_y",
        "outputId": "6c0fb13b-adf9-4c16-f7ca-cb35830fb0ad"
      },
      "execution_count": null,
      "outputs": [
        {
          "output_type": "execute_result",
          "data": {
            "text/plain": [
              "<matplotlib.axes._subplots.AxesSubplot at 0x7fd083dcce10>"
            ]
          },
          "metadata": {},
          "execution_count": 46
        },
        {
          "output_type": "display_data",
          "data": {
            "text/plain": [
              "<Figure size 432x288 with 1 Axes>"
            ],
            "image/png": "[encoded data removed]"
          },
          "metadata": {
            "needs_background": "light"
          }
        }
      ]
    },
    {
      "cell_type": "code",
      "source": [
        "sns.barplot(data=new, x=\"성별코드\", y=\"(혈청지오티)AST\", hue=\"음주여부\")"
      ],
      "metadata": {
        "colab": {
          "base_uri": "https://localhost:8080/",
          "height": 304
        },
        "id": "gF-8bifyzr5A",
        "outputId": "34623c96-444c-40e0-a6fb-f983afeaaa64"
      },
      "execution_count": null,
      "outputs": [
        {
          "output_type": "execute_result",
          "data": {
            "text/plain": [
              "<matplotlib.axes._subplots.AxesSubplot at 0x7fd083bf6550>"
            ]
          },
          "metadata": {},
          "execution_count": 49
        },
        {
          "output_type": "display_data",
          "data": {
            "text/plain": [
              "<Figure size 432x288 with 1 Axes>"
            ],
            "image/png": "[encoded data removed]"
          },
          "metadata": {
            "needs_background": "light"
          }
        }
      ]
    },
    {
      "cell_type": "code",
      "source": [
        "sns.barplot(data=new, x=\"성별코드\", y=\"(혈청지오티)ALT\", hue=\"음주여부\")"
      ],
      "metadata": {
        "colab": {
          "base_uri": "https://localhost:8080/",
          "height": 306
        },
        "id": "XRtfy88VzrtT",
        "outputId": "4aa07778-29ce-4ff8-9788-a35728ea5402"
      },
      "execution_count": null,
      "outputs": [
        {
          "output_type": "execute_result",
          "data": {
            "text/plain": [
              "<matplotlib.axes._subplots.AxesSubplot at 0x7fd083bd5850>"
            ]
          },
          "metadata": {},
          "execution_count": 50
        },
        {
          "output_type": "display_data",
          "data": {
            "text/plain": [
              "<Figure size 432x288 with 1 Axes>"
            ],
            "image/png": "[encoded data removed]"
          },
          "metadata": {
            "needs_background": "light"
          }
        }
      ]
    },
    {
      "cell_type": "markdown",
      "source": [
        "#흡연"
      ],
      "metadata": {
        "id": "uRYhGPxIz_AX"
      }
    },
    {
      "cell_type": "code",
      "source": [
        "smoke=df.loc[:,['성별코드','가입자일련번호', '연령대코드(5세단위)', '체중(5Kg 단위)','흡연상태', '요단백', '치아우식증유무', '치석' ]]\n",
        "smoke.dropna(inplace=True)\n",
        "smoke"
      ],
      "metadata": {
        "colab": {
          "base_uri": "https://localhost:8080/",
          "height": 424
        },
        "id": "E_MXs81yz-kn",
        "outputId": "4d90ebac-5539-43bb-f726-830b7f2ddcee"
      },
      "execution_count": 21,
      "outputs": [
        {
          "output_type": "execute_result",
          "data": {
            "text/plain": [
              "     성별코드  가입자일련번호  연령대코드(5세단위)  체중(5Kg 단위)    흡연상태  요단백  치아우식증유무   치석\n",
              "3       M        4           13          70      No  1.0      0.0  0.0\n",
              "6       M        7            9          80     Yes  1.0      0.0  1.0\n",
              "7       M        8           13          65     Yes  1.0      0.0  2.0\n",
              "12      M       13           14          80     Yes  1.0      0.0  0.0\n",
              "16      M       17           11          65      No  1.0      0.0  1.0\n",
              "...   ...      ...          ...         ...     ...  ...      ...  ...\n",
              "9981    M     9982           12          70  NotNow  1.0      0.0  0.0\n",
              "9982    F     9983           13          55      No  1.0      1.0  1.0\n",
              "9983    M     9984           12          65  NotNow  1.0      0.0  0.0\n",
              "9988    M     9989           14          50     Yes  1.0      1.0  0.0\n",
              "9996    F     9997           11          55      No  1.0      0.0  0.0\n",
              "\n",
              "[3237 rows x 8 columns]"
            ],
            "text/html": [
              "\n",
              "  <div id=\"df-27c6f0de-393d-41fc-856a-e7b824c0e069\">\n",
              "    <div class=\"colab-df-container\">\n",
              "      <div>\n",
              "<style scoped>\n",
              "    .dataframe tbody tr th:only-of-type {\n",
              "        vertical-align: middle;\n",
              "    }\n",
              "\n",
              "    .dataframe tbody tr th {\n",
              "        vertical-align: top;\n",
              "    }\n",
              "\n",
              "    .dataframe thead th {\n",
              "        text-align: right;\n",
              "    }\n",
              "</style>\n",
              "<table border=\"1\" class=\"dataframe\">\n",
              "  <thead>\n",
              "    <tr style=\"text-align: right;\">\n",
              "      <th></th>\n",
              "      <th>성별코드</th>\n",
              "      <th>가입자일련번호</th>\n",
              "      <th>연령대코드(5세단위)</th>\n",
              "      <th>체중(5Kg 단위)</th>\n",
              "      <th>흡연상태</th>\n",
              "      <th>요단백</th>\n",
              "      <th>치아우식증유무</th>\n",
              "      <th>치석</th>\n",
              "    </tr>\n",
              "  </thead>\n",
              "  <tbody>\n",
              "    <tr>\n",
              "      <th>3</th>\n",
              "      <td>M</td>\n",
              "      <td>4</td>\n",
              "      <td>13</td>\n",
              "      <td>70</td>\n",
              "      <td>No</td>\n",
              "      <td>1.0</td>\n",
              "      <td>0.0</td>\n",
              "      <td>0.0</td>\n",
              "    </tr>\n",
              "    <tr>\n",
              "      <th>6</th>\n",
              "      <td>M</td>\n",
              "      <td>7</td>\n",
              "      <td>9</td>\n",
              "      <td>80</td>\n",
              "      <td>Yes</td>\n",
              "      <td>1.0</td>\n",
              "      <td>0.0</td>\n",
              "      <td>1.0</td>\n",
              "    </tr>\n",
              "    <tr>\n",
              "      <th>7</th>\n",
              "      <td>M</td>\n",
              "      <td>8</td>\n",
              "      <td>13</td>\n",
              "      <td>65</td>\n",
              "      <td>Yes</td>\n",
              "      <td>1.0</td>\n",
              "      <td>0.0</td>\n",
              "      <td>2.0</td>\n",
              "    </tr>\n",
              "    <tr>\n",
              "      <th>12</th>\n",
              "      <td>M</td>\n",
              "      <td>13</td>\n",
              "      <td>14</td>\n",
              "      <td>80</td>\n",
              "      <td>Yes</td>\n",
              "      <td>1.0</td>\n",
              "      <td>0.0</td>\n",
              "      <td>0.0</td>\n",
              "    </tr>\n",
              "    <tr>\n",
              "      <th>16</th>\n",
              "      <td>M</td>\n",
              "      <td>17</td>\n",
              "      <td>11</td>\n",
              "      <td>65</td>\n",
              "      <td>No</td>\n",
              "      <td>1.0</td>\n",
              "      <td>0.0</td>\n",
              "      <td>1.0</td>\n",
              "    </tr>\n",
              "    <tr>\n",
              "      <th>...</th>\n",
              "      <td>...</td>\n",
              "      <td>...</td>\n",
              "      <td>...</td>\n",
              "      <td>...</td>\n",
              "      <td>...</td>\n",
              "      <td>...</td>\n",
              "      <td>...</td>\n",
              "      <td>...</td>\n",
              "    </tr>\n",
              "    <tr>\n",
              "      <th>9981</th>\n",
              "      <td>M</td>\n",
              "      <td>9982</td>\n",
              "      <td>12</td>\n",
              "      <td>70</td>\n",
              "      <td>NotNow</td>\n",
              "      <td>1.0</td>\n",
              "      <td>0.0</td>\n",
              "      <td>0.0</td>\n",
              "    </tr>\n",
              "    <tr>\n",
              "      <th>9982</th>\n",
              "      <td>F</td>\n",
              "      <td>9983</td>\n",
              "      <td>13</td>\n",
              "      <td>55</td>\n",
              "      <td>No</td>\n",
              "      <td>1.0</td>\n",
              "      <td>1.0</td>\n",
              "      <td>1.0</td>\n",
              "    </tr>\n",
              "    <tr>\n",
              "      <th>9983</th>\n",
              "      <td>M</td>\n",
              "      <td>9984</td>\n",
              "      <td>12</td>\n",
              "      <td>65</td>\n",
              "      <td>NotNow</td>\n",
              "      <td>1.0</td>\n",
              "      <td>0.0</td>\n",
              "      <td>0.0</td>\n",
              "    </tr>\n",
              "    <tr>\n",
              "      <th>9988</th>\n",
              "      <td>M</td>\n",
              "      <td>9989</td>\n",
              "      <td>14</td>\n",
              "      <td>50</td>\n",
              "      <td>Yes</td>\n",
              "      <td>1.0</td>\n",
              "      <td>1.0</td>\n",
              "      <td>0.0</td>\n",
              "    </tr>\n",
              "    <tr>\n",
              "      <th>9996</th>\n",
              "      <td>F</td>\n",
              "      <td>9997</td>\n",
              "      <td>11</td>\n",
              "      <td>55</td>\n",
              "      <td>No</td>\n",
              "      <td>1.0</td>\n",
              "      <td>0.0</td>\n",
              "      <td>0.0</td>\n",
              "    </tr>\n",
              "  </tbody>\n",
              "</table>\n",
              "<p>3237 rows × 8 columns</p>\n",
              "</div>\n",
              "      <button class=\"colab-df-convert\" onclick=\"convertToInteractive('df-27c6f0de-393d-41fc-856a-e7b824c0e069')\"\n",
              "              title=\"Convert this dataframe to an interactive table.\"\n",
              "              style=\"display:none;\">\n",
              "        \n",
              "  <svg xmlns=\"http://www.w3.org/2000/svg\" height=\"24px\"viewBox=\"0 0 24 24\"\n",
              "       width=\"24px\">\n",
              "    <path d=\"M0 0h24v24H0V0z\" fill=\"none\"/>\n",
              "    <path d=\"M18.56 5.44l.94 2.06.94-2.06 2.06-.94-2.06-.94-.94-2.06-.94 2.06-2.06.94zm-11 1L8.5 8.5l.94-2.06 2.06-.94-2.06-.94L8.5 2.5l-.94 2.06-2.06.94zm10 10l.94 2.06.94-2.06 2.06-.94-2.06-.94-.94-2.06-.94 2.06-2.06.94z\"/><path d=\"M17.41 7.96l-1.37-1.37c-.4-.4-.92-.59-1.43-.59-.52 0-1.04.2-1.43.59L10.3 9.45l-7.72 7.72c-.78.78-.78 2.05 0 2.83L4 21.41c.39.39.9.59 1.41.59.51 0 1.02-.2 1.41-.59l7.78-7.78 2.81-2.81c.8-.78.8-2.07 0-2.86zM5.41 20L4 18.59l7.72-7.72 1.47 1.35L5.41 20z\"/>\n",
              "  </svg>\n",
              "      </button>\n",
              "      \n",
              "  <style>\n",
              "    .colab-df-container {\n",
              "      display:flex;\n",
              "      flex-wrap:wrap;\n",
              "      gap: 12px;\n",
              "    }\n",
              "\n",
              "    .colab-df-convert {\n",
              "      background-color: #E8F0FE;\n",
              "      border: none;\n",
              "      border-radius: 50%;\n",
              "      cursor: pointer;\n",
              "      display: none;\n",
              "      fill: #1967D2;\n",
              "      height: 32px;\n",
              "      padding: 0 0 0 0;\n",
              "      width: 32px;\n",
              "    }\n",
              "\n",
              "    .colab-df-convert:hover {\n",
              "      background-color: #E2EBFA;\n",
              "      box-shadow: 0px 1px 2px rgba(60, 64, 67, 0.3), 0px 1px 3px 1px rgba(60, 64, 67, 0.15);\n",
              "      fill: #174EA6;\n",
              "    }\n",
              "\n",
              "    [theme=dark] .colab-df-convert {\n",
              "      background-color: #3B4455;\n",
              "      fill: #D2E3FC;\n",
              "    }\n",
              "\n",
              "    [theme=dark] .colab-df-convert:hover {\n",
              "      background-color: #434B5C;\n",
              "      box-shadow: 0px 1px 3px 1px rgba(0, 0, 0, 0.15);\n",
              "      filter: drop-shadow(0px 1px 2px rgba(0, 0, 0, 0.3));\n",
              "      fill: #FFFFFF;\n",
              "    }\n",
              "  </style>\n",
              "\n",
              "      <script>\n",
              "        const buttonEl =\n",
              "          document.querySelector('#df-27c6f0de-393d-41fc-856a-e7b824c0e069 button.colab-df-convert');\n",
              "        buttonEl.style.display =\n",
              "          google.colab.kernel.accessAllowed ? 'block' : 'none';\n",
              "\n",
              "        async function convertToInteractive(key) {\n",
              "          const element = document.querySelector('#df-27c6f0de-393d-41fc-856a-e7b824c0e069');\n",
              "          const dataTable =\n",
              "            await google.colab.kernel.invokeFunction('convertToInteractive',\n",
              "                                                     [key], {});\n",
              "          if (!dataTable) return;\n",
              "\n",
              "          const docLinkHtml = 'Like what you see? Visit the ' +\n",
              "            '<a target=\"_blank\" href=https://colab.research.google.com/notebooks/data_table.ipynb>data table notebook</a>'\n",
              "            + ' to learn more about interactive tables.';\n",
              "          element.innerHTML = '';\n",
              "          dataTable['output_type'] = 'display_data';\n",
              "          await google.colab.output.renderOutput(dataTable, element);\n",
              "          const docLink = document.createElement('div');\n",
              "          docLink.innerHTML = docLinkHtml;\n",
              "          element.appendChild(docLink);\n",
              "        }\n",
              "      </script>\n",
              "    </div>\n",
              "  </div>\n",
              "  "
            ]
          },
          "metadata": {},
          "execution_count": 21
        }
      ]
    },
    {
      "cell_type": "code",
      "source": [
        "c=smoke.groupby([\"흡연상태\", \"치아우식증유무\"])[\"가입자일련번호\"].count()\n",
        "c"
      ],
      "metadata": {
        "colab": {
          "base_uri": "https://localhost:8080/"
        },
        "id": "IBImFEgA1hGj",
        "outputId": "9d2730fd-a7d4-4685-db4a-de7f880b8412"
      },
      "execution_count": null,
      "outputs": [
        {
          "output_type": "execute_result",
          "data": {
            "text/plain": [
              "흡연상태    치아우식증유무\n",
              "No      0.0        1566\n",
              "        1.0         258\n",
              "NotNow  0.0         616\n",
              "        1.0         135\n",
              "Yes     0.0         487\n",
              "        1.0         175\n",
              "Name: 가입자일련번호, dtype: int64"
            ]
          },
          "metadata": {},
          "execution_count": 64
        }
      ]
    },
    {
      "cell_type": "code",
      "source": [
        "c.plot.bar(rot=45)"
      ],
      "metadata": {
        "colab": {
          "base_uri": "https://localhost:8080/",
          "height": 352
        },
        "id": "9BxULZ-u2lJS",
        "outputId": "8756c2b9-a842-4c8b-be06-01496dbd574c"
      },
      "execution_count": null,
      "outputs": [
        {
          "output_type": "execute_result",
          "data": {
            "text/plain": [
              "<matplotlib.axes._subplots.AxesSubplot at 0x7fd0837b9b50>"
            ]
          },
          "metadata": {},
          "execution_count": 65
        },
        {
          "output_type": "display_data",
          "data": {
            "text/plain": [
              "<Figure size 432x288 with 1 Axes>"
            ],
            "image/png": "[encoded data removed]"
          },
          "metadata": {
            "needs_background": "light"
          }
        }
      ]
    },
    {
      "cell_type": "markdown",
      "source": [
        "-> 흡연여부에 따른 치아우식증유무를 비교해보았을 때 흡연을 하지 않는 사람 중 치아우식증이 있는 사람은 258명, 흡연자 중 치아우식증이 있는 사람은 175명으로 흡연을 한다고 해서 치아우식증이 있다고 보긴 어렵다."
      ],
      "metadata": {
        "id": "0WysPTu_cnHt"
      }
    },
    {
      "cell_type": "code",
      "source": [
        "d=smoke.groupby([\"흡연상태\", \"치석\"])[\"가입자일련번호\"].count()\n",
        "d"
      ],
      "metadata": {
        "colab": {
          "base_uri": "https://localhost:8080/"
        },
        "id": "W8euGndq3Q1I",
        "outputId": "d6ff0441-f775-4f33-a527-e4ebddfaba41"
      },
      "execution_count": 22,
      "outputs": [
        {
          "output_type": "execute_result",
          "data": {
            "text/plain": [
              "흡연상태    치석 \n",
              "No      0.0    918\n",
              "        1.0    834\n",
              "        2.0     72\n",
              "NotNow  0.0    357\n",
              "        1.0    352\n",
              "        2.0     42\n",
              "Yes     0.0    257\n",
              "        1.0    347\n",
              "        2.0     58\n",
              "Name: 가입자일련번호, dtype: int64"
            ]
          },
          "metadata": {},
          "execution_count": 22
        }
      ]
    },
    {
      "cell_type": "code",
      "source": [
        "d.plot.bar(rot=45)"
      ],
      "metadata": {
        "colab": {
          "base_uri": "https://localhost:8080/",
          "height": 352
        },
        "id": "h63DU0f6dJEV",
        "outputId": "52f63172-8d0f-4eb8-8a81-f7241fe17a8d"
      },
      "execution_count": 23,
      "outputs": [
        {
          "output_type": "execute_result",
          "data": {
            "text/plain": [
              "<matplotlib.axes._subplots.AxesSubplot at 0x7f26860ad2d0>"
            ]
          },
          "metadata": {},
          "execution_count": 23
        },
        {
          "output_type": "display_data",
          "data": {
            "text/plain": [
              "<Figure size 432x288 with 1 Axes>"
            ],
            "image/png": "[encoded data removed]"
          },
          "metadata": {
            "needs_background": "light"
          }
        }
      ]
    },
    {
      "cell_type": "markdown",
      "source": [
        "-> 흡연여부에 따른 치석 유무를 비교해보았을 때 흡연을 하지 않는 사람 중 치석이 있는 사람은 834명, 흡연자 중 치석이 있는 사람은 347명으로 흡연을 하지 않는 사람의 비율이 더 높자는 것을 알 수 있다. 이를 통해 흡연 여부가 치아질환에 큰 영향을 끼치지 않는다는 사실을 알 수 있다.\n"
      ],
      "metadata": {
        "id": "VLtMTz5jdS0z"
      }
    }
  ]
}